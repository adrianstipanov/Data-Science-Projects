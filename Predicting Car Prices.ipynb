{
 "cells": [
  {
   "cell_type": "markdown",
   "metadata": {},
   "source": [
    "# Predicting Car Prices"
   ]
  },
  {
   "cell_type": "markdown",
   "metadata": {},
   "source": [
    "The data set we will be working with contains information on various cars. For each car we have information about the technical aspects of the vehicle such as the motor's displacement, the weight of the car, the miles per gallon, how fast the car accelerates, and more. "
   ]
  },
  {
   "cell_type": "code",
   "execution_count": 1,
   "metadata": {
    "tags": []
   },
   "outputs": [],
   "source": [
    "import pandas as pd\n",
    "import numpy as np"
   ]
  },
  {
   "cell_type": "code",
   "execution_count": 2,
   "metadata": {
    "collapsed": false,
    "jupyter": {
     "outputs_hidden": false
    }
   },
   "outputs": [
    {
     "data": {
      "text/html": [
       "<div>\n",
       "<style scoped>\n",
       "    .dataframe tbody tr th:only-of-type {\n",
       "        vertical-align: middle;\n",
       "    }\n",
       "\n",
       "    .dataframe tbody tr th {\n",
       "        vertical-align: top;\n",
       "    }\n",
       "\n",
       "    .dataframe thead th {\n",
       "        text-align: right;\n",
       "    }\n",
       "</style>\n",
       "<table border=\"1\" class=\"dataframe\">\n",
       "  <thead>\n",
       "    <tr style=\"text-align: right;\">\n",
       "      <th></th>\n",
       "      <th>symboling</th>\n",
       "      <th>normalized-losses</th>\n",
       "      <th>make</th>\n",
       "      <th>fuel-type</th>\n",
       "      <th>aspiration</th>\n",
       "      <th>num-of-doors</th>\n",
       "      <th>body-style</th>\n",
       "      <th>drive-wheels</th>\n",
       "      <th>engine-location</th>\n",
       "      <th>wheel-base</th>\n",
       "      <th>...</th>\n",
       "      <th>engine-size</th>\n",
       "      <th>fuel-system</th>\n",
       "      <th>bore</th>\n",
       "      <th>stroke</th>\n",
       "      <th>compression-rate</th>\n",
       "      <th>horsepower</th>\n",
       "      <th>peak-rpm</th>\n",
       "      <th>city-mpg</th>\n",
       "      <th>highway-mpg</th>\n",
       "      <th>price</th>\n",
       "    </tr>\n",
       "  </thead>\n",
       "  <tbody>\n",
       "    <tr>\n",
       "      <th>0</th>\n",
       "      <td>3</td>\n",
       "      <td>?</td>\n",
       "      <td>alfa-romero</td>\n",
       "      <td>gas</td>\n",
       "      <td>std</td>\n",
       "      <td>two</td>\n",
       "      <td>convertible</td>\n",
       "      <td>rwd</td>\n",
       "      <td>front</td>\n",
       "      <td>88.6</td>\n",
       "      <td>...</td>\n",
       "      <td>130</td>\n",
       "      <td>mpfi</td>\n",
       "      <td>3.47</td>\n",
       "      <td>2.68</td>\n",
       "      <td>9.0</td>\n",
       "      <td>111</td>\n",
       "      <td>5000</td>\n",
       "      <td>21</td>\n",
       "      <td>27</td>\n",
       "      <td>13495</td>\n",
       "    </tr>\n",
       "    <tr>\n",
       "      <th>1</th>\n",
       "      <td>3</td>\n",
       "      <td>?</td>\n",
       "      <td>alfa-romero</td>\n",
       "      <td>gas</td>\n",
       "      <td>std</td>\n",
       "      <td>two</td>\n",
       "      <td>convertible</td>\n",
       "      <td>rwd</td>\n",
       "      <td>front</td>\n",
       "      <td>88.6</td>\n",
       "      <td>...</td>\n",
       "      <td>130</td>\n",
       "      <td>mpfi</td>\n",
       "      <td>3.47</td>\n",
       "      <td>2.68</td>\n",
       "      <td>9.0</td>\n",
       "      <td>111</td>\n",
       "      <td>5000</td>\n",
       "      <td>21</td>\n",
       "      <td>27</td>\n",
       "      <td>16500</td>\n",
       "    </tr>\n",
       "    <tr>\n",
       "      <th>2</th>\n",
       "      <td>1</td>\n",
       "      <td>?</td>\n",
       "      <td>alfa-romero</td>\n",
       "      <td>gas</td>\n",
       "      <td>std</td>\n",
       "      <td>two</td>\n",
       "      <td>hatchback</td>\n",
       "      <td>rwd</td>\n",
       "      <td>front</td>\n",
       "      <td>94.5</td>\n",
       "      <td>...</td>\n",
       "      <td>152</td>\n",
       "      <td>mpfi</td>\n",
       "      <td>2.68</td>\n",
       "      <td>3.47</td>\n",
       "      <td>9.0</td>\n",
       "      <td>154</td>\n",
       "      <td>5000</td>\n",
       "      <td>19</td>\n",
       "      <td>26</td>\n",
       "      <td>16500</td>\n",
       "    </tr>\n",
       "    <tr>\n",
       "      <th>3</th>\n",
       "      <td>2</td>\n",
       "      <td>164</td>\n",
       "      <td>audi</td>\n",
       "      <td>gas</td>\n",
       "      <td>std</td>\n",
       "      <td>four</td>\n",
       "      <td>sedan</td>\n",
       "      <td>fwd</td>\n",
       "      <td>front</td>\n",
       "      <td>99.8</td>\n",
       "      <td>...</td>\n",
       "      <td>109</td>\n",
       "      <td>mpfi</td>\n",
       "      <td>3.19</td>\n",
       "      <td>3.40</td>\n",
       "      <td>10.0</td>\n",
       "      <td>102</td>\n",
       "      <td>5500</td>\n",
       "      <td>24</td>\n",
       "      <td>30</td>\n",
       "      <td>13950</td>\n",
       "    </tr>\n",
       "    <tr>\n",
       "      <th>4</th>\n",
       "      <td>2</td>\n",
       "      <td>164</td>\n",
       "      <td>audi</td>\n",
       "      <td>gas</td>\n",
       "      <td>std</td>\n",
       "      <td>four</td>\n",
       "      <td>sedan</td>\n",
       "      <td>4wd</td>\n",
       "      <td>front</td>\n",
       "      <td>99.4</td>\n",
       "      <td>...</td>\n",
       "      <td>136</td>\n",
       "      <td>mpfi</td>\n",
       "      <td>3.19</td>\n",
       "      <td>3.40</td>\n",
       "      <td>8.0</td>\n",
       "      <td>115</td>\n",
       "      <td>5500</td>\n",
       "      <td>18</td>\n",
       "      <td>22</td>\n",
       "      <td>17450</td>\n",
       "    </tr>\n",
       "  </tbody>\n",
       "</table>\n",
       "<p>5 rows × 26 columns</p>\n",
       "</div>"
      ],
      "text/plain": [
       "   symboling normalized-losses         make fuel-type aspiration num-of-doors  \\\n",
       "0          3                 ?  alfa-romero       gas        std          two   \n",
       "1          3                 ?  alfa-romero       gas        std          two   \n",
       "2          1                 ?  alfa-romero       gas        std          two   \n",
       "3          2               164         audi       gas        std         four   \n",
       "4          2               164         audi       gas        std         four   \n",
       "\n",
       "    body-style drive-wheels engine-location  wheel-base  ...  engine-size  \\\n",
       "0  convertible          rwd           front        88.6  ...          130   \n",
       "1  convertible          rwd           front        88.6  ...          130   \n",
       "2    hatchback          rwd           front        94.5  ...          152   \n",
       "3        sedan          fwd           front        99.8  ...          109   \n",
       "4        sedan          4wd           front        99.4  ...          136   \n",
       "\n",
       "   fuel-system  bore  stroke compression-rate horsepower  peak-rpm city-mpg  \\\n",
       "0         mpfi  3.47    2.68              9.0        111      5000       21   \n",
       "1         mpfi  3.47    2.68              9.0        111      5000       21   \n",
       "2         mpfi  2.68    3.47              9.0        154      5000       19   \n",
       "3         mpfi  3.19    3.40             10.0        102      5500       24   \n",
       "4         mpfi  3.19    3.40              8.0        115      5500       18   \n",
       "\n",
       "  highway-mpg  price  \n",
       "0          27  13495  \n",
       "1          27  16500  \n",
       "2          26  16500  \n",
       "3          30  13950  \n",
       "4          22  17450  \n",
       "\n",
       "[5 rows x 26 columns]"
      ]
     },
     "execution_count": 2,
     "metadata": {},
     "output_type": "execute_result"
    }
   ],
   "source": [
    "cols = ['symboling', 'normalized-losses', 'make', 'fuel-type', 'aspiration', 'num-of-doors', 'body-style', \n",
    "        'drive-wheels', 'engine-location', 'wheel-base', 'length', 'width', 'height', 'curb-weight', 'engine-type', \n",
    "        'num-of-cylinders', 'engine-size', 'fuel-system', 'bore', 'stroke', 'compression-rate', 'horsepower', 'peak-rpm', 'city-mpg', 'highway-mpg', 'price']\n",
    "cars = pd.read_csv('datasets/imports-85.data', names=cols)\n",
    "\n",
    "cars.head()"
   ]
  },
  {
   "cell_type": "code",
   "execution_count": 3,
   "metadata": {
    "collapsed": false,
    "jupyter": {
     "outputs_hidden": false
    },
    "scrolled": true
   },
   "outputs": [
    {
     "name": "stdout",
     "output_type": "stream",
     "text": [
      "<class 'pandas.core.frame.DataFrame'>\n",
      "RangeIndex: 205 entries, 0 to 204\n",
      "Data columns (total 26 columns):\n",
      " #   Column             Non-Null Count  Dtype  \n",
      "---  ------             --------------  -----  \n",
      " 0   symboling          205 non-null    int64  \n",
      " 1   normalized-losses  205 non-null    object \n",
      " 2   make               205 non-null    object \n",
      " 3   fuel-type          205 non-null    object \n",
      " 4   aspiration         205 non-null    object \n",
      " 5   num-of-doors       205 non-null    object \n",
      " 6   body-style         205 non-null    object \n",
      " 7   drive-wheels       205 non-null    object \n",
      " 8   engine-location    205 non-null    object \n",
      " 9   wheel-base         205 non-null    float64\n",
      " 10  length             205 non-null    float64\n",
      " 11  width              205 non-null    float64\n",
      " 12  height             205 non-null    float64\n",
      " 13  curb-weight        205 non-null    int64  \n",
      " 14  engine-type        205 non-null    object \n",
      " 15  num-of-cylinders   205 non-null    object \n",
      " 16  engine-size        205 non-null    int64  \n",
      " 17  fuel-system        205 non-null    object \n",
      " 18  bore               205 non-null    object \n",
      " 19  stroke             205 non-null    object \n",
      " 20  compression-rate   205 non-null    float64\n",
      " 21  horsepower         205 non-null    object \n",
      " 22  peak-rpm           205 non-null    object \n",
      " 23  city-mpg           205 non-null    int64  \n",
      " 24  highway-mpg        205 non-null    int64  \n",
      " 25  price              205 non-null    object \n",
      "dtypes: float64(5), int64(5), object(16)\n",
      "memory usage: 41.8+ KB\n"
     ]
    }
   ],
   "source": [
    "cars.info()"
   ]
  },
  {
   "cell_type": "markdown",
   "metadata": {},
   "source": [
    "We'll work only with numerical values.\n",
    "\n",
    "The `normalized-losses` column contains missing values represented using `\"?\"`. We'll replace these with `NaN` and rescale the values in the range 0 to 1."
   ]
  },
  {
   "cell_type": "code",
   "execution_count": 4,
   "metadata": {},
   "outputs": [],
   "source": [
    "numerical_cols = ['normalized-losses', 'wheel-base', 'length', 'width', 'height', 'curb-weight', 'engine-size', 'bore', 'stroke', 'compression-rate', 'horsepower', 'peak-rpm', 'city-mpg', 'highway-mpg', 'price']\n",
    "numeric_cars = cars[numerical_cols]"
   ]
  },
  {
   "cell_type": "code",
   "execution_count": 5,
   "metadata": {
    "collapsed": false,
    "jupyter": {
     "outputs_hidden": false
    }
   },
   "outputs": [],
   "source": [
    "cars  = numeric_cars.replace(\"?\", np.nan)"
   ]
  },
  {
   "cell_type": "code",
   "execution_count": 6,
   "metadata": {
    "collapsed": false,
    "jupyter": {
     "outputs_hidden": false
    }
   },
   "outputs": [
    {
     "data": {
      "text/plain": [
       "normalized-losses    41\n",
       "wheel-base            0\n",
       "length                0\n",
       "width                 0\n",
       "height                0\n",
       "curb-weight           0\n",
       "engine-size           0\n",
       "bore                  4\n",
       "stroke                4\n",
       "compression-rate      0\n",
       "horsepower            2\n",
       "peak-rpm              2\n",
       "city-mpg              0\n",
       "highway-mpg           0\n",
       "price                 4\n",
       "dtype: int64"
      ]
     },
     "execution_count": 6,
     "metadata": {},
     "output_type": "execute_result"
    }
   ],
   "source": [
    "# convert to numerical\n",
    "\n",
    "cars = cars.astype('float')\n",
    "cars.isnull().sum()"
   ]
  },
  {
   "cell_type": "markdown",
   "metadata": {},
   "source": [
    "Because we are predicting `price`, we will first drop the rows that have a missing value for price."
   ]
  },
  {
   "cell_type": "code",
   "execution_count": 7,
   "metadata": {
    "collapsed": false,
    "jupyter": {
     "outputs_hidden": false
    }
   },
   "outputs": [
    {
     "data": {
      "text/plain": [
       "normalized-losses    37\n",
       "wheel-base            0\n",
       "length                0\n",
       "width                 0\n",
       "height                0\n",
       "curb-weight           0\n",
       "engine-size           0\n",
       "bore                  4\n",
       "stroke                4\n",
       "compression-rate      0\n",
       "horsepower            2\n",
       "peak-rpm              2\n",
       "city-mpg              0\n",
       "highway-mpg           0\n",
       "price                 0\n",
       "dtype: int64"
      ]
     },
     "execution_count": 7,
     "metadata": {},
     "output_type": "execute_result"
    }
   ],
   "source": [
    "cars = cars.dropna(subset=['price'])\n",
    "cars.isnull().sum()"
   ]
  },
  {
   "cell_type": "markdown",
   "metadata": {},
   "source": [
    "Because `normalized-losses` column has almost 20% of its values missing, we will drop the column."
   ]
  },
  {
   "cell_type": "code",
   "execution_count": 8,
   "metadata": {
    "collapsed": false,
    "jupyter": {
     "outputs_hidden": false
    }
   },
   "outputs": [],
   "source": [
    "del cars['normalized-losses']"
   ]
  },
  {
   "cell_type": "markdown",
   "metadata": {},
   "source": [
    "For the rest of columns we'll replace the missing values with its correspoding column mean."
   ]
  },
  {
   "cell_type": "code",
   "execution_count": 9,
   "metadata": {
    "collapsed": false,
    "jupyter": {
     "outputs_hidden": false
    }
   },
   "outputs": [],
   "source": [
    "cars.fillna(value=cars.mean(), axis=0, inplace=True)"
   ]
  },
  {
   "cell_type": "code",
   "execution_count": 10,
   "metadata": {
    "collapsed": false,
    "jupyter": {
     "outputs_hidden": false
    }
   },
   "outputs": [
    {
     "data": {
      "text/plain": [
       "wheel-base          0\n",
       "length              0\n",
       "width               0\n",
       "height              0\n",
       "curb-weight         0\n",
       "engine-size         0\n",
       "bore                0\n",
       "stroke              0\n",
       "compression-rate    0\n",
       "horsepower          0\n",
       "peak-rpm            0\n",
       "city-mpg            0\n",
       "highway-mpg         0\n",
       "price               0\n",
       "dtype: int64"
      ]
     },
     "execution_count": 10,
     "metadata": {},
     "output_type": "execute_result"
    }
   ],
   "source": [
    "cars.isnull().sum()"
   ]
  },
  {
   "cell_type": "markdown",
   "metadata": {},
   "source": [
    "Next, we'll standardize the values."
   ]
  },
  {
   "cell_type": "code",
   "execution_count": 11,
   "metadata": {},
   "outputs": [],
   "source": [
    "price_col = cars['price']\n",
    "cars = (cars - cars.min())/(cars.max() - cars.min())\n",
    "cars['price'] = price_col"
   ]
  },
  {
   "cell_type": "markdown",
   "metadata": {},
   "source": [
    "## The model\n",
    "Let's start with some univariate k-nearest neighbors models."
   ]
  },
  {
   "cell_type": "code",
   "execution_count": 12,
   "metadata": {},
   "outputs": [],
   "source": [
    "from sklearn.neighbors import KNeighborsRegressor\n",
    "from sklearn.metrics import mean_squared_error as mse\n",
    "\n",
    "\n",
    "def knn_train_test_univar(feature, target, data):\n",
    "    \n",
    "    #shuffle the data\n",
    "    np.random.seed(1)\n",
    "    shuffled = np.random.permutation(data.index)\n",
    "    data = data.reindex(shuffled)\n",
    "    \n",
    "    #split the data in half\n",
    "    half = int(len(data) / 2)\n",
    "    train = data.iloc[:half, :]\n",
    "    test = data.iloc[half:, :]\n",
    "    \n",
    "    #build and train model\n",
    "    clf = KNeighborsRegressor()\n",
    "    clf.fit(train[[feature]], train[target])\n",
    "    \n",
    "    #Make predictions\n",
    "    pred = clf.predict(test[[feature]])\n",
    "    rmse = np.sqrt(mse(test[target], pred))\n",
    "    \n",
    "    return rmse"
   ]
  },
  {
   "cell_type": "markdown",
   "metadata": {},
   "source": [
    "Let's try it out."
   ]
  },
  {
   "cell_type": "code",
   "execution_count": 13,
   "metadata": {
    "collapsed": false,
    "jupyter": {
     "outputs_hidden": false
    },
    "scrolled": true
   },
   "outputs": [],
   "source": [
    "errors = {}\n",
    "\n",
    "cols = cars.columns\n",
    "cols = cols.drop('price')\n",
    "\n",
    "for col in cols:\n",
    "    model = knn_train_test_univar(col, 'price', cars)\n",
    "    errors[col] = round(model, 2)"
   ]
  },
  {
   "cell_type": "code",
   "execution_count": 14,
   "metadata": {
    "collapsed": false,
    "jupyter": {
     "outputs_hidden": false
    }
   },
   "outputs": [],
   "source": [
    "results = pd.Series(errors)"
   ]
  },
  {
   "cell_type": "code",
   "execution_count": 15,
   "metadata": {
    "collapsed": false,
    "jupyter": {
     "outputs_hidden": false
    }
   },
   "outputs": [
    {
     "data": {
      "text/plain": [
       "engine-size         3238.46\n",
       "horsepower          4037.04\n",
       "curb-weight         4401.12\n",
       "highway-mpg         4630.03\n",
       "width               4704.48\n",
       "city-mpg            4766.42\n",
       "length              5427.20\n",
       "wheel-base          5461.55\n",
       "compression-rate    6610.81\n",
       "bore                6780.63\n",
       "peak-rpm            7697.46\n",
       "stroke              8006.53\n",
       "height              8144.44\n",
       "dtype: float64"
      ]
     },
     "execution_count": 15,
     "metadata": {},
     "output_type": "execute_result"
    }
   ],
   "source": [
    "results.sort_values()"
   ]
  },
  {
   "cell_type": "markdown",
   "metadata": {},
   "source": [
    "Next, we'll modify the function so it takes different values for `k`."
   ]
  },
  {
   "cell_type": "code",
   "execution_count": 16,
   "metadata": {
    "collapsed": false,
    "jupyter": {
     "outputs_hidden": false
    }
   },
   "outputs": [],
   "source": [
    "def knn_train_test_univar_k(feature, target, data, k_neighbors):\n",
    "    #shuffle the data\n",
    "    np.random.seed(1)\n",
    "    shuffled = np.random.permutation(data.index)\n",
    "    data = data.reindex(shuffled)\n",
    "    \n",
    "    #split the data in half\n",
    "    half = int(len(data) / 2)\n",
    "    train = data.iloc[:half, :]\n",
    "    test = data.iloc[half:, :]\n",
    "    \n",
    "    k_rmse = {}\n",
    "    \n",
    "    #build and train model\n",
    "    for k in k_neighbors:\n",
    "        clf = KNeighborsRegressor(n_neighbors=k)\n",
    "        clf.fit(train[[feature]], train[target])\n",
    "    \n",
    "        #Make predictions\n",
    "        pred = clf.predict(test[[feature]])\n",
    "        rmse = np.sqrt(mse(test[target], pred))\n",
    "        k_rmse[\"K_neighbors: {}\".format(k)] = round(rmse,2)\n",
    "    \n",
    "    return k_rmse"
   ]
  },
  {
   "cell_type": "code",
   "execution_count": 17,
   "metadata": {
    "collapsed": false,
    "jupyter": {
     "outputs_hidden": false
    }
   },
   "outputs": [],
   "source": [
    "errors_k = {}\n",
    "k = [1, 3, 5, 7, 9]\n",
    "for col in cols:\n",
    "    model = knn_train_test_univar_k(col, 'price', cars, k)\n",
    "    errors_k[col] = model"
   ]
  },
  {
   "cell_type": "code",
   "execution_count": 18,
   "metadata": {
    "collapsed": false,
    "jupyter": {
     "outputs_hidden": false
    }
   },
   "outputs": [
    {
     "data": {
      "text/plain": [
       "{'wheel-base': {'K_neighbors: 1': 4493.73,\n",
       "  'K_neighbors: 3': 5120.16,\n",
       "  'K_neighbors: 5': 5461.55,\n",
       "  'K_neighbors: 7': 5448.11,\n",
       "  'K_neighbors: 9': 5738.41},\n",
       " 'length': {'K_neighbors: 1': 4628.46,\n",
       "  'K_neighbors: 3': 5129.84,\n",
       "  'K_neighbors: 5': 5427.2,\n",
       "  'K_neighbors: 7': 5313.43,\n",
       "  'K_neighbors: 9': 5383.05},\n",
       " 'width': {'K_neighbors: 1': 4559.26,\n",
       "  'K_neighbors: 3': 4606.41,\n",
       "  'K_neighbors: 5': 4704.48,\n",
       "  'K_neighbors: 7': 4571.49,\n",
       "  'K_neighbors: 9': 4652.91},\n",
       " 'height': {'K_neighbors: 1': 8904.05,\n",
       "  'K_neighbors: 3': 8277.61,\n",
       "  'K_neighbors: 5': 8144.44,\n",
       "  'K_neighbors: 7': 7679.6,\n",
       "  'K_neighbors: 9': 7811.04},\n",
       " 'curb-weight': {'K_neighbors: 1': 5264.29,\n",
       "  'K_neighbors: 3': 5022.32,\n",
       "  'K_neighbors: 5': 4401.12,\n",
       "  'K_neighbors: 7': 4330.61,\n",
       "  'K_neighbors: 9': 4632.04},\n",
       " 'engine-size': {'K_neighbors: 1': 3258.49,\n",
       "  'K_neighbors: 3': 2840.56,\n",
       "  'K_neighbors: 5': 3238.46,\n",
       "  'K_neighbors: 7': 3563.09,\n",
       "  'K_neighbors: 9': 3831.82},\n",
       " 'bore': {'K_neighbors: 1': 8602.59,\n",
       "  'K_neighbors: 3': 6984.24,\n",
       "  'K_neighbors: 5': 6780.63,\n",
       "  'K_neighbors: 7': 6878.1,\n",
       "  'K_neighbors: 9': 6866.81},\n",
       " 'stroke': {'K_neighbors: 1': 9116.5,\n",
       "  'K_neighbors: 3': 7338.68,\n",
       "  'K_neighbors: 5': 8006.53,\n",
       "  'K_neighbors: 7': 7803.94,\n",
       "  'K_neighbors: 9': 7735.55},\n",
       " 'compression-rate': {'K_neighbors: 1': 8087.21,\n",
       "  'K_neighbors: 3': 7375.06,\n",
       "  'K_neighbors: 5': 6610.81,\n",
       "  'K_neighbors: 7': 6732.8,\n",
       "  'K_neighbors: 9': 7024.49},\n",
       " 'horsepower': {'K_neighbors: 1': 4170.05,\n",
       "  'K_neighbors: 3': 4020.85,\n",
       "  'K_neighbors: 5': 4037.04,\n",
       "  'K_neighbors: 7': 4353.81,\n",
       "  'K_neighbors: 9': 4515.14},\n",
       " 'peak-rpm': {'K_neighbors: 1': 9511.48,\n",
       "  'K_neighbors: 3': 8537.55,\n",
       "  'K_neighbors: 5': 7697.46,\n",
       "  'K_neighbors: 7': 7510.29,\n",
       "  'K_neighbors: 9': 7340.04},\n",
       " 'city-mpg': {'K_neighbors: 1': 5901.14,\n",
       "  'K_neighbors: 3': 4646.75,\n",
       "  'K_neighbors: 5': 4766.42,\n",
       "  'K_neighbors: 7': 5232.52,\n",
       "  'K_neighbors: 9': 5465.21},\n",
       " 'highway-mpg': {'K_neighbors: 1': 6025.59,\n",
       "  'K_neighbors: 3': 4617.31,\n",
       "  'K_neighbors: 5': 4630.03,\n",
       "  'K_neighbors: 7': 4796.06,\n",
       "  'K_neighbors: 9': 5278.36}}"
      ]
     },
     "execution_count": 18,
     "metadata": {},
     "output_type": "execute_result"
    }
   ],
   "source": [
    "errors_k"
   ]
  },
  {
   "cell_type": "markdown",
   "metadata": {},
   "source": [
    "Next, we'll modify the function so it works with multiple columns."
   ]
  },
  {
   "cell_type": "code",
   "execution_count": 19,
   "metadata": {},
   "outputs": [],
   "source": [
    "def knn_train_test_multivar(features, target, data):\n",
    "    \n",
    "    #shuffle the data\n",
    "    np.random.seed(1)\n",
    "    shuffled = np.random.permutation(data.index)\n",
    "    data = data.reindex(shuffled)\n",
    "    \n",
    "    #split the data in half\n",
    "    half = int(len(data) / 2)\n",
    "    train = data.iloc[:half, :]\n",
    "    test = data.iloc[half:, :]\n",
    "    \n",
    "    #build and train model\n",
    "    clf = KNeighborsRegressor()\n",
    "    clf.fit(train[features], train[target])\n",
    "    \n",
    "    #Make predictions\n",
    "    pred = clf.predict(test[features])\n",
    "    rmse = np.sqrt(mse(test[target], pred))\n",
    "    \n",
    "    return rmse"
   ]
  },
  {
   "cell_type": "markdown",
   "metadata": {},
   "source": [
    "We'll use the best features (starting from best 2 till best 5) from the previous step to train and test a multivariate k-nearest neighbors model using the default k value."
   ]
  },
  {
   "cell_type": "code",
   "execution_count": 20,
   "metadata": {
    "collapsed": false,
    "jupyter": {
     "outputs_hidden": false
    }
   },
   "outputs": [],
   "source": [
    "rmse_vals = {}\n",
    "for n in range(2,6):\n",
    "    features = list(results.sort_values()[:n].index)\n",
    "    rmse = knn_train_test_multivar(features, 'price', cars)\n",
    "    rmse_vals['Model with the best {} features'.format(n)] = round(rmse, 2)"
   ]
  },
  {
   "cell_type": "code",
   "execution_count": 21,
   "metadata": {
    "collapsed": false,
    "jupyter": {
     "outputs_hidden": false
    }
   },
   "outputs": [
    {
     "data": {
      "text/plain": [
       "{'Model with the best 2 features': 2949.88,\n",
       " 'Model with the best 3 features': 3435.26,\n",
       " 'Model with the best 4 features': 3286.56,\n",
       " 'Model with the best 5 features': 3410.22}"
      ]
     },
     "execution_count": 21,
     "metadata": {},
     "output_type": "execute_result"
    }
   ],
   "source": [
    "rmse_vals"
   ]
  },
  {
   "cell_type": "markdown",
   "metadata": {},
   "source": [
    "We observe how the model performs best with the best 2 features."
   ]
  },
  {
   "cell_type": "markdown",
   "metadata": {},
   "source": [
    "Lastly, we'll optimize the hyperparameters for the best model."
   ]
  },
  {
   "cell_type": "code",
   "execution_count": 22,
   "metadata": {},
   "outputs": [],
   "source": [
    "def knn_train_test_multivar_k(features, target, data, k_neighbors):\n",
    "    \n",
    "    #shuffle the data\n",
    "    np.random.seed(1)\n",
    "    shuffled = np.random.permutation(data.index)\n",
    "    data = data.reindex(shuffled)\n",
    "    \n",
    "    #split the data in half\n",
    "    half = int(len(data) / 2)\n",
    "    train = data.iloc[:half, :]\n",
    "    test = data.iloc[half:, :]\n",
    "    \n",
    "    k_rmse = {}\n",
    "    \n",
    "    #build and train model\n",
    "    for k in k_neighbors:\n",
    "        clf = KNeighborsRegressor(n_neighbors=k)\n",
    "        clf.fit(train[features], train[target])\n",
    "    \n",
    "        #Make predictions\n",
    "        pred = clf.predict(test[features])\n",
    "        rmse = np.sqrt(mse(test[target], pred))\n",
    "        k_rmse[\"K_neighbors: {}\".format(k)] = round(rmse,2)\n",
    "    \n",
    "    return k_rmse"
   ]
  },
  {
   "cell_type": "code",
   "execution_count": 23,
   "metadata": {
    "collapsed": false,
    "jupyter": {
     "outputs_hidden": false
    }
   },
   "outputs": [],
   "source": [
    "k_neighbors = [i for i in range(1,26)]"
   ]
  },
  {
   "cell_type": "code",
   "execution_count": 24,
   "metadata": {},
   "outputs": [],
   "source": [
    "errors_best_model = knn_train_test_multivar_k(['engine-size', 'horsepower'], 'price', cars, k_neighbors)"
   ]
  },
  {
   "cell_type": "code",
   "execution_count": 25,
   "metadata": {
    "collapsed": false,
    "jupyter": {
     "outputs_hidden": false
    }
   },
   "outputs": [],
   "source": [
    "results = pd.Series(errors_best_model)\n",
    "results = results.sort_values()"
   ]
  },
  {
   "cell_type": "code",
   "execution_count": 28,
   "metadata": {
    "collapsed": false,
    "jupyter": {
     "outputs_hidden": false
    },
    "scrolled": true
   },
   "outputs": [
    {
     "data": {
      "image/png": "[encoded data removed]",
      "text/plain": [
       "<Figure size 432x288 with 1 Axes>"
      ]
     },
     "metadata": {
      "needs_background": "light"
     },
     "output_type": "display_data"
    }
   ],
   "source": [
    "import matplotlib.pyplot as plt\n",
    "%matplotlib inline\n",
    "labels=[i for i in range(1,26)]\n",
    "results.plot.line(title=\"Best model\")\n",
    "plt.xlabel('Number of K neighbors')\n",
    "plt.ylabel(\"RMSE\")\n",
    "plt.xticks([])\n",
    "plt.xticks(labels, labels)\n",
    "plt.grid(False)"
   ]
  },
  {
   "cell_type": "markdown",
   "metadata": {},
   "source": [
    "The optimal number of neighbors `k` is 2 as it's the model with the lowest `rmse`."
   ]
  }
 ],
 "metadata": {
  "kernelspec": {
   "display_name": "Python 3",
   "language": "python",
   "name": "python3"
  },
  "language_info": {
   "codemirror_mode": {
    "name": "ipython",
    "version": 3
   },
   "file_extension": ".py",
   "mimetype": "text/x-python",
   "name": "python",
   "nbconvert_exporter": "python",
   "pygments_lexer": "ipython3",
   "version": "3.8.3"
  }
 },
 "nbformat": 4,
 "nbformat_minor": 4
}
