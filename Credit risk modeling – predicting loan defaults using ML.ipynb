{
 "cells": [
  {
   "cell_type": "markdown",
   "id": "9bdd91c1",
   "metadata": {},
   "source": [
    "# Credit risk modeling – predicting loan defaults using ML"
   ]
  },
  {
   "cell_type": "markdown",
   "id": "ad5ad3a0",
   "metadata": {},
   "source": [
    "In this project we will focus on credit modelling by training a model to predict borrower's credit risk.\n",
    "\n",
    "The dataset we'll be using is from Lending Club –  a marketplace for personal loans that matches borrowers who are seeking a loan with investors looking to lend money and make a return. Lending Club releases data for all of the approved and declined loan applications periodically on their website. There is also a [data dictionary](https://docs.google.com/spreadsheets/d/191B2yJ4H1ZPXq0_ByhUgWMFZOYem5jFz0Y3by_7YBY4/edit#gid=2081333097) (in XLS format) which contains information on the different column names.\n",
    "\n",
    "In the dictionary, the `LoanStats` sheet describes the approved loans datasets and the `RejectStats` describes the rejected loans datasets. Since rejected applications don't appear on the Lending Club marketplace and aren't available for investment, we'll be focusing on approved loans. The approved loans datasets contain information on current loans, completed loans, and defaulted loans. "
   ]
  },
  {
   "cell_type": "markdown",
   "id": "d4334df2",
   "metadata": {},
   "source": [
    "#### The goal of this project is to build a machine learning model that can accurately predict if a borrower will pay off their loan on time or not."
   ]
  },
  {
   "cell_type": "markdown",
   "id": "3412d6d4",
   "metadata": {},
   "source": [
    "***"
   ]
  },
  {
   "cell_type": "markdown",
   "id": "de8cf9d9",
   "metadata": {},
   "source": [
    "### Exploring the data"
   ]
  },
  {
   "cell_type": "markdown",
   "id": "4bf593d4",
   "metadata": {},
   "source": [
    "We'll start off by defining what features we want to use and which column represents the target column we want to predict. We'll focus on approved loans data from 2007 to 2011, since a good number of the loans have already finished. In the datasets for later years, many of the loans are current and still being paid off."
   ]
  },
  {
   "cell_type": "code",
   "execution_count": 2,
   "id": "b4416c6c",
   "metadata": {},
   "outputs": [
    {
     "name": "stdout",
     "output_type": "stream",
     "text": [
      "(42538, 52)\n"
     ]
    }
   ],
   "source": [
    "import pandas as pd\n",
    "import numpy as np\n",
    "import matplotlib.pyplot as plt\n",
    "import seaborn as sns\n",
    "\n",
    "loans = pd.read_csv('datasets/loans_2007.csv', dtype={\"id\": str})\n",
    "\n",
    "print(loans.shape)"
   ]
  },
  {
   "cell_type": "markdown",
   "id": "d6cfaee4",
   "metadata": {},
   "source": [
    "As we look at each feature,  we are going to look at any features that:\n",
    "\n",
    "* disclose information from the future (after the loan has already been funded)\n",
    "* don't affect a borrower's ability to pay back a loan (e.g. a randomly generated ID value by Lending Club)\n",
    "* need to be cleaned up and are formatted poorly\n",
    "* contain redundant information\n",
    "\n",
    "We need to especially pay attention to data leakage, since it can cause our model to overfit. This is because the model uses data about the target column that wouldn't be available when we're using the model on future loans."
   ]
  },
  {
   "cell_type": "code",
   "execution_count": 3,
   "id": "0ae2f279",
   "metadata": {},
   "outputs": [
    {
     "data": {
      "text/html": [
       "<div>\n",
       "<style scoped>\n",
       "    .dataframe tbody tr th:only-of-type {\n",
       "        vertical-align: middle;\n",
       "    }\n",
       "\n",
       "    .dataframe tbody tr th {\n",
       "        vertical-align: top;\n",
       "    }\n",
       "\n",
       "    .dataframe thead th {\n",
       "        text-align: right;\n",
       "    }\n",
       "</style>\n",
       "<table border=\"1\" class=\"dataframe\">\n",
       "  <thead>\n",
       "    <tr style=\"text-align: right;\">\n",
       "      <th></th>\n",
       "      <th>id</th>\n",
       "      <th>member_id</th>\n",
       "      <th>loan_amnt</th>\n",
       "      <th>funded_amnt</th>\n",
       "      <th>funded_amnt_inv</th>\n",
       "      <th>term</th>\n",
       "      <th>int_rate</th>\n",
       "      <th>installment</th>\n",
       "      <th>grade</th>\n",
       "      <th>sub_grade</th>\n",
       "      <th>...</th>\n",
       "      <th>last_pymnt_amnt</th>\n",
       "      <th>last_credit_pull_d</th>\n",
       "      <th>collections_12_mths_ex_med</th>\n",
       "      <th>policy_code</th>\n",
       "      <th>application_type</th>\n",
       "      <th>acc_now_delinq</th>\n",
       "      <th>chargeoff_within_12_mths</th>\n",
       "      <th>delinq_amnt</th>\n",
       "      <th>pub_rec_bankruptcies</th>\n",
       "      <th>tax_liens</th>\n",
       "    </tr>\n",
       "  </thead>\n",
       "  <tbody>\n",
       "    <tr>\n",
       "      <th>0</th>\n",
       "      <td>1077501</td>\n",
       "      <td>1296599.0</td>\n",
       "      <td>5000.0</td>\n",
       "      <td>5000.0</td>\n",
       "      <td>4975.0</td>\n",
       "      <td>36 months</td>\n",
       "      <td>10.65%</td>\n",
       "      <td>162.87</td>\n",
       "      <td>B</td>\n",
       "      <td>B2</td>\n",
       "      <td>...</td>\n",
       "      <td>171.62</td>\n",
       "      <td>Jun-2016</td>\n",
       "      <td>0.0</td>\n",
       "      <td>1.0</td>\n",
       "      <td>INDIVIDUAL</td>\n",
       "      <td>0.0</td>\n",
       "      <td>0.0</td>\n",
       "      <td>0.0</td>\n",
       "      <td>0.0</td>\n",
       "      <td>0.0</td>\n",
       "    </tr>\n",
       "    <tr>\n",
       "      <th>1</th>\n",
       "      <td>1077430</td>\n",
       "      <td>1314167.0</td>\n",
       "      <td>2500.0</td>\n",
       "      <td>2500.0</td>\n",
       "      <td>2500.0</td>\n",
       "      <td>60 months</td>\n",
       "      <td>15.27%</td>\n",
       "      <td>59.83</td>\n",
       "      <td>C</td>\n",
       "      <td>C4</td>\n",
       "      <td>...</td>\n",
       "      <td>119.66</td>\n",
       "      <td>Sep-2013</td>\n",
       "      <td>0.0</td>\n",
       "      <td>1.0</td>\n",
       "      <td>INDIVIDUAL</td>\n",
       "      <td>0.0</td>\n",
       "      <td>0.0</td>\n",
       "      <td>0.0</td>\n",
       "      <td>0.0</td>\n",
       "      <td>0.0</td>\n",
       "    </tr>\n",
       "    <tr>\n",
       "      <th>2</th>\n",
       "      <td>1077175</td>\n",
       "      <td>1313524.0</td>\n",
       "      <td>2400.0</td>\n",
       "      <td>2400.0</td>\n",
       "      <td>2400.0</td>\n",
       "      <td>36 months</td>\n",
       "      <td>15.96%</td>\n",
       "      <td>84.33</td>\n",
       "      <td>C</td>\n",
       "      <td>C5</td>\n",
       "      <td>...</td>\n",
       "      <td>649.91</td>\n",
       "      <td>Jun-2016</td>\n",
       "      <td>0.0</td>\n",
       "      <td>1.0</td>\n",
       "      <td>INDIVIDUAL</td>\n",
       "      <td>0.0</td>\n",
       "      <td>0.0</td>\n",
       "      <td>0.0</td>\n",
       "      <td>0.0</td>\n",
       "      <td>0.0</td>\n",
       "    </tr>\n",
       "    <tr>\n",
       "      <th>3</th>\n",
       "      <td>1076863</td>\n",
       "      <td>1277178.0</td>\n",
       "      <td>10000.0</td>\n",
       "      <td>10000.0</td>\n",
       "      <td>10000.0</td>\n",
       "      <td>36 months</td>\n",
       "      <td>13.49%</td>\n",
       "      <td>339.31</td>\n",
       "      <td>C</td>\n",
       "      <td>C1</td>\n",
       "      <td>...</td>\n",
       "      <td>357.48</td>\n",
       "      <td>Apr-2016</td>\n",
       "      <td>0.0</td>\n",
       "      <td>1.0</td>\n",
       "      <td>INDIVIDUAL</td>\n",
       "      <td>0.0</td>\n",
       "      <td>0.0</td>\n",
       "      <td>0.0</td>\n",
       "      <td>0.0</td>\n",
       "      <td>0.0</td>\n",
       "    </tr>\n",
       "    <tr>\n",
       "      <th>4</th>\n",
       "      <td>1075358</td>\n",
       "      <td>1311748.0</td>\n",
       "      <td>3000.0</td>\n",
       "      <td>3000.0</td>\n",
       "      <td>3000.0</td>\n",
       "      <td>60 months</td>\n",
       "      <td>12.69%</td>\n",
       "      <td>67.79</td>\n",
       "      <td>B</td>\n",
       "      <td>B5</td>\n",
       "      <td>...</td>\n",
       "      <td>67.79</td>\n",
       "      <td>Jun-2016</td>\n",
       "      <td>0.0</td>\n",
       "      <td>1.0</td>\n",
       "      <td>INDIVIDUAL</td>\n",
       "      <td>0.0</td>\n",
       "      <td>0.0</td>\n",
       "      <td>0.0</td>\n",
       "      <td>0.0</td>\n",
       "      <td>0.0</td>\n",
       "    </tr>\n",
       "  </tbody>\n",
       "</table>\n",
       "<p>5 rows × 52 columns</p>\n",
       "</div>"
      ],
      "text/plain": [
       "        id  member_id  loan_amnt  funded_amnt  funded_amnt_inv        term  \\\n",
       "0  1077501  1296599.0     5000.0       5000.0           4975.0   36 months   \n",
       "1  1077430  1314167.0     2500.0       2500.0           2500.0   60 months   \n",
       "2  1077175  1313524.0     2400.0       2400.0           2400.0   36 months   \n",
       "3  1076863  1277178.0    10000.0      10000.0          10000.0   36 months   \n",
       "4  1075358  1311748.0     3000.0       3000.0           3000.0   60 months   \n",
       "\n",
       "  int_rate  installment grade sub_grade  ... last_pymnt_amnt  \\\n",
       "0   10.65%       162.87     B        B2  ...          171.62   \n",
       "1   15.27%        59.83     C        C4  ...          119.66   \n",
       "2   15.96%        84.33     C        C5  ...          649.91   \n",
       "3   13.49%       339.31     C        C1  ...          357.48   \n",
       "4   12.69%        67.79     B        B5  ...           67.79   \n",
       "\n",
       "  last_credit_pull_d collections_12_mths_ex_med  policy_code application_type  \\\n",
       "0           Jun-2016                        0.0          1.0       INDIVIDUAL   \n",
       "1           Sep-2013                        0.0          1.0       INDIVIDUAL   \n",
       "2           Jun-2016                        0.0          1.0       INDIVIDUAL   \n",
       "3           Apr-2016                        0.0          1.0       INDIVIDUAL   \n",
       "4           Jun-2016                        0.0          1.0       INDIVIDUAL   \n",
       "\n",
       "  acc_now_delinq chargeoff_within_12_mths delinq_amnt pub_rec_bankruptcies  \\\n",
       "0            0.0                      0.0         0.0                  0.0   \n",
       "1            0.0                      0.0         0.0                  0.0   \n",
       "2            0.0                      0.0         0.0                  0.0   \n",
       "3            0.0                      0.0         0.0                  0.0   \n",
       "4            0.0                      0.0         0.0                  0.0   \n",
       "\n",
       "  tax_liens  \n",
       "0       0.0  \n",
       "1       0.0  \n",
       "2       0.0  \n",
       "3       0.0  \n",
       "4       0.0  \n",
       "\n",
       "[5 rows x 52 columns]"
      ]
     },
     "execution_count": 3,
     "metadata": {},
     "output_type": "execute_result"
    }
   ],
   "source": [
    "loans.head()"
   ]
  },
  {
   "cell_type": "code",
   "execution_count": 4,
   "id": "7a493fdf",
   "metadata": {},
   "outputs": [
    {
     "data": {
      "text/html": [
       "<div>\n",
       "<style scoped>\n",
       "    .dataframe tbody tr th:only-of-type {\n",
       "        vertical-align: middle;\n",
       "    }\n",
       "\n",
       "    .dataframe tbody tr th {\n",
       "        vertical-align: top;\n",
       "    }\n",
       "\n",
       "    .dataframe thead th {\n",
       "        text-align: right;\n",
       "    }\n",
       "</style>\n",
       "<table border=\"1\" class=\"dataframe\">\n",
       "  <thead>\n",
       "    <tr style=\"text-align: right;\">\n",
       "      <th></th>\n",
       "      <th>id</th>\n",
       "      <th>member_id</th>\n",
       "      <th>loan_amnt</th>\n",
       "      <th>funded_amnt</th>\n",
       "      <th>funded_amnt_inv</th>\n",
       "      <th>term</th>\n",
       "      <th>int_rate</th>\n",
       "      <th>installment</th>\n",
       "      <th>grade</th>\n",
       "      <th>sub_grade</th>\n",
       "      <th>...</th>\n",
       "      <th>last_pymnt_amnt</th>\n",
       "      <th>last_credit_pull_d</th>\n",
       "      <th>collections_12_mths_ex_med</th>\n",
       "      <th>policy_code</th>\n",
       "      <th>application_type</th>\n",
       "      <th>acc_now_delinq</th>\n",
       "      <th>chargeoff_within_12_mths</th>\n",
       "      <th>delinq_amnt</th>\n",
       "      <th>pub_rec_bankruptcies</th>\n",
       "      <th>tax_liens</th>\n",
       "    </tr>\n",
       "  </thead>\n",
       "  <tbody>\n",
       "    <tr>\n",
       "      <th>42533</th>\n",
       "      <td>72176</td>\n",
       "      <td>70868.0</td>\n",
       "      <td>2525.0</td>\n",
       "      <td>2525.0</td>\n",
       "      <td>225.0</td>\n",
       "      <td>36 months</td>\n",
       "      <td>9.33%</td>\n",
       "      <td>80.69</td>\n",
       "      <td>B</td>\n",
       "      <td>B3</td>\n",
       "      <td>...</td>\n",
       "      <td>82.03</td>\n",
       "      <td>May-2007</td>\n",
       "      <td>NaN</td>\n",
       "      <td>1.0</td>\n",
       "      <td>INDIVIDUAL</td>\n",
       "      <td>NaN</td>\n",
       "      <td>NaN</td>\n",
       "      <td>NaN</td>\n",
       "      <td>NaN</td>\n",
       "      <td>NaN</td>\n",
       "    </tr>\n",
       "    <tr>\n",
       "      <th>42534</th>\n",
       "      <td>71623</td>\n",
       "      <td>70735.0</td>\n",
       "      <td>6500.0</td>\n",
       "      <td>6500.0</td>\n",
       "      <td>0.0</td>\n",
       "      <td>36 months</td>\n",
       "      <td>8.38%</td>\n",
       "      <td>204.84</td>\n",
       "      <td>A</td>\n",
       "      <td>A5</td>\n",
       "      <td>...</td>\n",
       "      <td>205.32</td>\n",
       "      <td>Aug-2007</td>\n",
       "      <td>NaN</td>\n",
       "      <td>1.0</td>\n",
       "      <td>INDIVIDUAL</td>\n",
       "      <td>NaN</td>\n",
       "      <td>NaN</td>\n",
       "      <td>NaN</td>\n",
       "      <td>NaN</td>\n",
       "      <td>NaN</td>\n",
       "    </tr>\n",
       "    <tr>\n",
       "      <th>42535</th>\n",
       "      <td>70686</td>\n",
       "      <td>70681.0</td>\n",
       "      <td>5000.0</td>\n",
       "      <td>5000.0</td>\n",
       "      <td>0.0</td>\n",
       "      <td>36 months</td>\n",
       "      <td>7.75%</td>\n",
       "      <td>156.11</td>\n",
       "      <td>A</td>\n",
       "      <td>A3</td>\n",
       "      <td>...</td>\n",
       "      <td>156.39</td>\n",
       "      <td>Feb-2015</td>\n",
       "      <td>NaN</td>\n",
       "      <td>1.0</td>\n",
       "      <td>INDIVIDUAL</td>\n",
       "      <td>NaN</td>\n",
       "      <td>NaN</td>\n",
       "      <td>NaN</td>\n",
       "      <td>NaN</td>\n",
       "      <td>NaN</td>\n",
       "    </tr>\n",
       "    <tr>\n",
       "      <th>42536</th>\n",
       "      <td>Total amount funded in policy code 1: 471701350</td>\n",
       "      <td>NaN</td>\n",
       "      <td>NaN</td>\n",
       "      <td>NaN</td>\n",
       "      <td>NaN</td>\n",
       "      <td>NaN</td>\n",
       "      <td>NaN</td>\n",
       "      <td>NaN</td>\n",
       "      <td>NaN</td>\n",
       "      <td>NaN</td>\n",
       "      <td>...</td>\n",
       "      <td>NaN</td>\n",
       "      <td>NaN</td>\n",
       "      <td>NaN</td>\n",
       "      <td>NaN</td>\n",
       "      <td>NaN</td>\n",
       "      <td>NaN</td>\n",
       "      <td>NaN</td>\n",
       "      <td>NaN</td>\n",
       "      <td>NaN</td>\n",
       "      <td>NaN</td>\n",
       "    </tr>\n",
       "    <tr>\n",
       "      <th>42537</th>\n",
       "      <td>Total amount funded in policy code 2: 0</td>\n",
       "      <td>NaN</td>\n",
       "      <td>NaN</td>\n",
       "      <td>NaN</td>\n",
       "      <td>NaN</td>\n",
       "      <td>NaN</td>\n",
       "      <td>NaN</td>\n",
       "      <td>NaN</td>\n",
       "      <td>NaN</td>\n",
       "      <td>NaN</td>\n",
       "      <td>...</td>\n",
       "      <td>NaN</td>\n",
       "      <td>NaN</td>\n",
       "      <td>NaN</td>\n",
       "      <td>NaN</td>\n",
       "      <td>NaN</td>\n",
       "      <td>NaN</td>\n",
       "      <td>NaN</td>\n",
       "      <td>NaN</td>\n",
       "      <td>NaN</td>\n",
       "      <td>NaN</td>\n",
       "    </tr>\n",
       "  </tbody>\n",
       "</table>\n",
       "<p>5 rows × 52 columns</p>\n",
       "</div>"
      ],
      "text/plain": [
       "                                                    id  member_id  loan_amnt  \\\n",
       "42533                                            72176    70868.0     2525.0   \n",
       "42534                                            71623    70735.0     6500.0   \n",
       "42535                                            70686    70681.0     5000.0   \n",
       "42536  Total amount funded in policy code 1: 471701350        NaN        NaN   \n",
       "42537          Total amount funded in policy code 2: 0        NaN        NaN   \n",
       "\n",
       "       funded_amnt  funded_amnt_inv        term int_rate  installment grade  \\\n",
       "42533       2525.0            225.0   36 months    9.33%        80.69     B   \n",
       "42534       6500.0              0.0   36 months    8.38%       204.84     A   \n",
       "42535       5000.0              0.0   36 months    7.75%       156.11     A   \n",
       "42536          NaN              NaN         NaN      NaN          NaN   NaN   \n",
       "42537          NaN              NaN         NaN      NaN          NaN   NaN   \n",
       "\n",
       "      sub_grade  ... last_pymnt_amnt last_credit_pull_d  \\\n",
       "42533        B3  ...           82.03           May-2007   \n",
       "42534        A5  ...          205.32           Aug-2007   \n",
       "42535        A3  ...          156.39           Feb-2015   \n",
       "42536       NaN  ...             NaN                NaN   \n",
       "42537       NaN  ...             NaN                NaN   \n",
       "\n",
       "      collections_12_mths_ex_med  policy_code application_type acc_now_delinq  \\\n",
       "42533                        NaN          1.0       INDIVIDUAL            NaN   \n",
       "42534                        NaN          1.0       INDIVIDUAL            NaN   \n",
       "42535                        NaN          1.0       INDIVIDUAL            NaN   \n",
       "42536                        NaN          NaN              NaN            NaN   \n",
       "42537                        NaN          NaN              NaN            NaN   \n",
       "\n",
       "      chargeoff_within_12_mths delinq_amnt pub_rec_bankruptcies tax_liens  \n",
       "42533                      NaN         NaN                  NaN       NaN  \n",
       "42534                      NaN         NaN                  NaN       NaN  \n",
       "42535                      NaN         NaN                  NaN       NaN  \n",
       "42536                      NaN         NaN                  NaN       NaN  \n",
       "42537                      NaN         NaN                  NaN       NaN  \n",
       "\n",
       "[5 rows x 52 columns]"
      ]
     },
     "execution_count": 4,
     "metadata": {},
     "output_type": "execute_result"
    }
   ],
   "source": [
    "loans.tail()"
   ]
  },
  {
   "cell_type": "markdown",
   "id": "77d779eb",
   "metadata": {},
   "source": [
    "After analyzing each column, we can conclude that the following features need to be removed:\n",
    "\n",
    "* `id:` randomly generated field by Lending Club for unique identification purposes only\n",
    "* `member_id:` also a randomly generated field by Lending Club for unique identification purposes only\n",
    "* `funded_amnt:` leaks data from the future (after the loan is already started to be funded)\n",
    "* `funded_amnt_inv:` also leaks data from the future (after the loan is already started to be funded)\n",
    "* `grade:` contains redundant information as the interest rate column (int_rate)\n",
    "* `sub_grade:` also contains redundant information as the interest rate column (int_rate)\n",
    "* `emp_title:` requires other data and a lot of processing to potentially be useful\n",
    "* `issue_d:` leaks data from the future (after the loan is already completely funded)\n",
    "* `zip_code:` redundant with the addr_state column since only the first 3 digits of the 5-digit zip code are visible (which can only be used to identify the state the borrower lives in)\n",
    "* `out_prncp:` leaks data from the future, (after the loan already started to be paid off)\n",
    "* `out_prncp_inv:` also leaks data from the future, (after the loan already started to be paid off)\n",
    "* `total_pymnt:` also leaks data from the future, (after the loan already started to be paid off)\n",
    "* `total_pymnt_inv:` also leaks data from the future, (after the loan already started to be paid off)\n",
    "* `total_rec_prncp:` also leaks data from the future, (after the loan already started to be paid off)\n",
    "* `total_rec_int:` leaks data from the future, (after the loan has started to be paid off),\n",
    "* `total_rec_late_fee:` leaks data from the future, (after the loan has started to be paid off),\n",
    "* `recoveries:` leaks data from the future, (after the loan has started to be paid off),\n",
    "* `collection_recovery_fee:` leaks data from the future, (after the loan has started to be paid off),\n",
    "* `last_pymnt_d:` leaks data from the future, (after the loan has started to be paid off),\n",
    "* `last_pymnt_amnt:` leaks data from the future, (after the loan has started to be paid off)."
   ]
  },
  {
   "cell_type": "code",
   "execution_count": 5,
   "id": "04f30345",
   "metadata": {},
   "outputs": [],
   "source": [
    "loans = loans.drop([\"id\", \"member_id\", \n",
    "                              \"funded_amnt\", \"funded_amnt_inv\", \"grade\", \"sub_grade\",\n",
    "                              \"emp_title\", \"issue_d\", \"zip_code\", \"out_prncp\", \"out_prncp_inv\",\n",
    "                              \"total_pymnt\", \"total_pymnt_inv\", \"total_rec_prncp\",\n",
    "                             \"total_rec_int\", \"total_rec_late_fee\", \"recoveries\",\n",
    "                              \"collection_recovery_fee\", \"last_pymnt_d\", \"last_pymnt_amnt\"], axis=1)"
   ]
  },
  {
   "cell_type": "code",
   "execution_count": 6,
   "id": "b6745d6a",
   "metadata": {},
   "outputs": [
    {
     "name": "stdout",
     "output_type": "stream",
     "text": [
      "loan_amnt                          5000.0\n",
      "term                            36 months\n",
      "int_rate                           10.65%\n",
      "installment                        162.87\n",
      "emp_length                      10+ years\n",
      "home_ownership                       RENT\n",
      "annual_inc                        24000.0\n",
      "verification_status              Verified\n",
      "loan_status                    Fully Paid\n",
      "pymnt_plan                              n\n",
      "purpose                       credit_card\n",
      "title                            Computer\n",
      "addr_state                             AZ\n",
      "dti                                 27.65\n",
      "delinq_2yrs                           0.0\n",
      "earliest_cr_line                 Jan-1985\n",
      "inq_last_6mths                        1.0\n",
      "open_acc                              3.0\n",
      "pub_rec                               0.0\n",
      "revol_bal                         13648.0\n",
      "revol_util                          83.7%\n",
      "total_acc                             9.0\n",
      "initial_list_status                     f\n",
      "last_credit_pull_d               Jun-2016\n",
      "collections_12_mths_ex_med            0.0\n",
      "policy_code                           1.0\n",
      "application_type               INDIVIDUAL\n",
      "acc_now_delinq                        0.0\n",
      "chargeoff_within_12_mths              0.0\n",
      "delinq_amnt                           0.0\n",
      "pub_rec_bankruptcies                  0.0\n",
      "tax_liens                             0.0\n",
      "Name: 0, dtype: object\n",
      "(42538, 32)\n"
     ]
    }
   ],
   "source": [
    "print(loans.iloc[0])\n",
    "print(loans.shape)"
   ]
  },
  {
   "cell_type": "markdown",
   "id": "0bad29d8",
   "metadata": {},
   "source": [
    "Next we'll focus the target column. We will use the `loan_status` column, since it's the only column that directly describes if a loan was paid off on time, had delayed payments, or was defaulted on the borrower. Currently, this column contains text values and we need to convert it to a numerical value for training a model."
   ]
  },
  {
   "cell_type": "code",
   "execution_count": 7,
   "id": "686318a2",
   "metadata": {},
   "outputs": [
    {
     "data": {
      "text/plain": [
       "Fully Paid                                             33136\n",
       "Charged Off                                             5634\n",
       "Does not meet the credit policy. Status:Fully Paid      1988\n",
       "Current                                                  961\n",
       "Does not meet the credit policy. Status:Charged Off      761\n",
       "Late (31-120 days)                                        24\n",
       "In Grace Period                                           20\n",
       "Late (16-30 days)                                          8\n",
       "Default                                                    3\n",
       "Name: loan_status, dtype: int64"
      ]
     },
     "execution_count": 7,
     "metadata": {},
     "output_type": "execute_result"
    }
   ],
   "source": [
    "loans['loan_status'].value_counts()"
   ]
  },
  {
   "cell_type": "markdown",
   "id": "c9105f0f",
   "metadata": {},
   "source": [
    "There are 8 different possible values for the `loan_status` column. We can read about most of the different loan statuses on the [Lending Clube website.](https://help.lendingclub.com/hc/en-us/articles/215488038-What-do-the-different-Note-statuses-mean-)\n",
    "\n",
    "From the investor's perspective, we're interested in trying to predict whether loans will be paid off on time. Only the `Fully Paid` and `Charged Off` values describe the final outcome of the loan. The other values describe loans that are still ongoing and where the jury is still out on if the borrower will pay back the loan on time or not. While the `Default` status resembles the `Charged Off` status, in Lending Club's eyes, loans that are charged off have essentially no chance of being repaid while default ones have a small chance.\n",
    "\n",
    "We will keep only the rows that are `Fully Paid` or `Charged Off` as the loan's status."
   ]
  },
  {
   "cell_type": "code",
   "execution_count": 8,
   "id": "6b2f03b0",
   "metadata": {},
   "outputs": [],
   "source": [
    "# Removing all the other loans\n",
    "loans = loans[(loans['loan_status'] == 'Fully Paid') | (loans['loan_status'] == 'Charged Off')]"
   ]
  },
  {
   "cell_type": "markdown",
   "id": "1779decc",
   "metadata": {},
   "source": [
    "Then we will transform the `Fully Paid` values to 0 for the negative case and the `Charged Off` values to 1 for the positive case."
   ]
  },
  {
   "cell_type": "code",
   "execution_count": 9,
   "id": "adc6c7d9",
   "metadata": {},
   "outputs": [],
   "source": [
    "repl_dict = {\n",
    "    'loan_status': {'Fully Paid':0, 'Charged Off':1}\n",
    "            }\n",
    "\n",
    "loans = loans.replace(repl_dict)"
   ]
  },
  {
   "cell_type": "code",
   "execution_count": 10,
   "id": "42f10abf",
   "metadata": {},
   "outputs": [
    {
     "data": {
      "text/plain": [
       "0    33136\n",
       "1     5634\n",
       "Name: loan_status, dtype: int64"
      ]
     },
     "execution_count": 10,
     "metadata": {},
     "output_type": "execute_result"
    }
   ],
   "source": [
    "loans['loan_status'].value_counts(dropna=False)"
   ]
  },
  {
   "cell_type": "markdown",
   "id": "21135c9a",
   "metadata": {},
   "source": [
    "One thing we need to keep in mind is the class imbalance between the positive and negative cases. While there are 33,136 loans that have been fully paid off, there are only 5,634 that were charged off. This class imbalance is a common problem in binary classification and during training, the model ends up having a strong bias towards predicting the class with more observations in the training set and will rarely predict the class with less observations. "
   ]
  },
  {
   "cell_type": "markdown",
   "id": "a9bb5d91",
   "metadata": {},
   "source": [
    "### Preparing the features"
   ]
  },
  {
   "cell_type": "markdown",
   "id": "9924ce12",
   "metadata": {},
   "source": [
    "When we are doing feature selection, we only want too keep columns that have variability, otherwise these columns don't add any information to the model. We will first drop rows that contain `Nan` values so it doesn't get returned as a unique value and compute the number of unique values in each column and drop the columns that contain only one unique value."
   ]
  },
  {
   "cell_type": "code",
   "execution_count": 11,
   "id": "1562a714",
   "metadata": {},
   "outputs": [
    {
     "name": "stdout",
     "output_type": "stream",
     "text": [
      "['pymnt_plan', 'initial_list_status', 'collections_12_mths_ex_med', 'policy_code', 'application_type', 'acc_now_delinq', 'chargeoff_within_12_mths', 'delinq_amnt', 'tax_liens']\n"
     ]
    }
   ],
   "source": [
    "orig_columns = loans.columns\n",
    "drop_columns = []\n",
    "for col in orig_columns:\n",
    "    col_series = loans[col].dropna().unique()\n",
    "    if len(col_series) == 1:\n",
    "        drop_columns.append(col)\n",
    "loans = loans.drop(drop_columns, axis=1)\n",
    "print(drop_columns)"
   ]
  },
  {
   "cell_type": "markdown",
   "id": "1cfbe868",
   "metadata": {},
   "source": [
    "We will first check for missing values as mathematics underlying most machine learning models assumes that the data is numerical and contains no missing values."
   ]
  },
  {
   "cell_type": "code",
   "execution_count": 12,
   "id": "5a5089b8",
   "metadata": {},
   "outputs": [
    {
     "name": "stdout",
     "output_type": "stream",
     "text": [
      "emp_length              1036\n",
      "pub_rec_bankruptcies     697\n",
      "revol_util                50\n",
      "title                     11\n",
      "last_credit_pull_d         2\n",
      "delinq_2yrs                0\n",
      "total_acc                  0\n",
      "revol_bal                  0\n",
      "pub_rec                    0\n",
      "open_acc                   0\n",
      "inq_last_6mths             0\n",
      "earliest_cr_line           0\n",
      "loan_amnt                  0\n",
      "dti                        0\n",
      "term                       0\n",
      "purpose                    0\n",
      "loan_status                0\n",
      "verification_status        0\n",
      "annual_inc                 0\n",
      "home_ownership             0\n",
      "installment                0\n",
      "int_rate                   0\n",
      "addr_state                 0\n",
      "dtype: int64\n"
     ]
    }
   ],
   "source": [
    "null_counts = loans.isnull().sum()\n",
    "print(null_counts.sort_values(ascending=False))"
   ]
  },
  {
   "cell_type": "markdown",
   "id": "df3ec4e9",
   "metadata": {},
   "source": [
    "While most of the columns have no missing values, two columns have fifty or less rows with missing values, and two columns, `emp_length` and `pub_rec_bankruptcies`, contain a relatively high number of missing values.\n",
    "\n",
    "Domain knowledge tells us that `employment length` is frequently used in assessing how risky a potential borrower is, so we'll keep this column despite its relatively large number of missing values."
   ]
  },
  {
   "cell_type": "code",
   "execution_count": 13,
   "id": "5cd8e742",
   "metadata": {},
   "outputs": [
    {
     "data": {
      "text/plain": [
       "0.0    0.939438\n",
       "1.0    0.042456\n",
       "NaN    0.017978\n",
       "2.0    0.000129\n",
       "Name: pub_rec_bankruptcies, dtype: float64"
      ]
     },
     "execution_count": 13,
     "metadata": {},
     "output_type": "execute_result"
    }
   ],
   "source": [
    "loans.pub_rec_bankruptcies.value_counts(normalize=True, dropna=False)"
   ]
  },
  {
   "cell_type": "markdown",
   "id": "42b204f4",
   "metadata": {},
   "source": [
    "By inspecting `pub_rec_bankruptcies` offers very little variability, nearly 94% of values are in the same category. We will drop it. In addition, we'll remove the remaining rows containing null values."
   ]
  },
  {
   "cell_type": "code",
   "execution_count": 14,
   "id": "c799e17e",
   "metadata": {},
   "outputs": [],
   "source": [
    "loans = loans.drop('pub_rec_bankruptcies', axis=1)\n",
    "loans = loans.dropna(axis=0)"
   ]
  },
  {
   "cell_type": "markdown",
   "id": "ea010504",
   "metadata": {},
   "source": [
    "While the numerical columns can be used natively with scikit-learn, the object columns that contain text need to be converted to numerical data types."
   ]
  },
  {
   "cell_type": "code",
   "execution_count": 15,
   "id": "7ea63f57",
   "metadata": {},
   "outputs": [
    {
     "name": "stdout",
     "output_type": "stream",
     "text": [
      "object     11\n",
      "float64    10\n",
      "int64       1\n",
      "dtype: int64\n"
     ]
    }
   ],
   "source": [
    "print(loans.dtypes.value_counts())"
   ]
  },
  {
   "cell_type": "code",
   "execution_count": 16,
   "id": "925f6e20",
   "metadata": {},
   "outputs": [
    {
     "data": {
      "text/html": [
       "<div>\n",
       "<style scoped>\n",
       "    .dataframe tbody tr th:only-of-type {\n",
       "        vertical-align: middle;\n",
       "    }\n",
       "\n",
       "    .dataframe tbody tr th {\n",
       "        vertical-align: top;\n",
       "    }\n",
       "\n",
       "    .dataframe thead th {\n",
       "        text-align: right;\n",
       "    }\n",
       "</style>\n",
       "<table border=\"1\" class=\"dataframe\">\n",
       "  <thead>\n",
       "    <tr style=\"text-align: right;\">\n",
       "      <th></th>\n",
       "      <th>term</th>\n",
       "      <th>int_rate</th>\n",
       "      <th>emp_length</th>\n",
       "      <th>home_ownership</th>\n",
       "      <th>verification_status</th>\n",
       "      <th>purpose</th>\n",
       "      <th>title</th>\n",
       "      <th>addr_state</th>\n",
       "      <th>earliest_cr_line</th>\n",
       "      <th>revol_util</th>\n",
       "      <th>last_credit_pull_d</th>\n",
       "    </tr>\n",
       "  </thead>\n",
       "  <tbody>\n",
       "    <tr>\n",
       "      <th>0</th>\n",
       "      <td>36 months</td>\n",
       "      <td>10.65%</td>\n",
       "      <td>10+ years</td>\n",
       "      <td>RENT</td>\n",
       "      <td>Verified</td>\n",
       "      <td>credit_card</td>\n",
       "      <td>Computer</td>\n",
       "      <td>AZ</td>\n",
       "      <td>Jan-1985</td>\n",
       "      <td>83.7%</td>\n",
       "      <td>Jun-2016</td>\n",
       "    </tr>\n",
       "    <tr>\n",
       "      <th>1</th>\n",
       "      <td>60 months</td>\n",
       "      <td>15.27%</td>\n",
       "      <td>&lt; 1 year</td>\n",
       "      <td>RENT</td>\n",
       "      <td>Source Verified</td>\n",
       "      <td>car</td>\n",
       "      <td>bike</td>\n",
       "      <td>GA</td>\n",
       "      <td>Apr-1999</td>\n",
       "      <td>9.4%</td>\n",
       "      <td>Sep-2013</td>\n",
       "    </tr>\n",
       "    <tr>\n",
       "      <th>2</th>\n",
       "      <td>36 months</td>\n",
       "      <td>15.96%</td>\n",
       "      <td>10+ years</td>\n",
       "      <td>RENT</td>\n",
       "      <td>Not Verified</td>\n",
       "      <td>small_business</td>\n",
       "      <td>real estate business</td>\n",
       "      <td>IL</td>\n",
       "      <td>Nov-2001</td>\n",
       "      <td>98.5%</td>\n",
       "      <td>Jun-2016</td>\n",
       "    </tr>\n",
       "    <tr>\n",
       "      <th>3</th>\n",
       "      <td>36 months</td>\n",
       "      <td>13.49%</td>\n",
       "      <td>10+ years</td>\n",
       "      <td>RENT</td>\n",
       "      <td>Source Verified</td>\n",
       "      <td>other</td>\n",
       "      <td>personel</td>\n",
       "      <td>CA</td>\n",
       "      <td>Feb-1996</td>\n",
       "      <td>21%</td>\n",
       "      <td>Apr-2016</td>\n",
       "    </tr>\n",
       "    <tr>\n",
       "      <th>5</th>\n",
       "      <td>36 months</td>\n",
       "      <td>7.90%</td>\n",
       "      <td>3 years</td>\n",
       "      <td>RENT</td>\n",
       "      <td>Source Verified</td>\n",
       "      <td>wedding</td>\n",
       "      <td>My wedding loan I promise to pay back</td>\n",
       "      <td>AZ</td>\n",
       "      <td>Nov-2004</td>\n",
       "      <td>28.3%</td>\n",
       "      <td>Jan-2016</td>\n",
       "    </tr>\n",
       "  </tbody>\n",
       "</table>\n",
       "</div>"
      ],
      "text/plain": [
       "         term int_rate emp_length home_ownership verification_status  \\\n",
       "0   36 months   10.65%  10+ years           RENT            Verified   \n",
       "1   60 months   15.27%   < 1 year           RENT     Source Verified   \n",
       "2   36 months   15.96%  10+ years           RENT        Not Verified   \n",
       "3   36 months   13.49%  10+ years           RENT     Source Verified   \n",
       "5   36 months    7.90%    3 years           RENT     Source Verified   \n",
       "\n",
       "          purpose                                  title addr_state  \\\n",
       "0     credit_card                               Computer         AZ   \n",
       "1             car                                   bike         GA   \n",
       "2  small_business                   real estate business         IL   \n",
       "3           other                               personel         CA   \n",
       "5         wedding  My wedding loan I promise to pay back         AZ   \n",
       "\n",
       "  earliest_cr_line revol_util last_credit_pull_d  \n",
       "0         Jan-1985      83.7%           Jun-2016  \n",
       "1         Apr-1999       9.4%           Sep-2013  \n",
       "2         Nov-2001      98.5%           Jun-2016  \n",
       "3         Feb-1996        21%           Apr-2016  \n",
       "5         Nov-2004      28.3%           Jan-2016  "
      ]
     },
     "execution_count": 16,
     "metadata": {},
     "output_type": "execute_result"
    }
   ],
   "source": [
    "object_columns_df = loans.select_dtypes(include=['object'])\n",
    "object_columns_df.head()"
   ]
  },
  {
   "cell_type": "markdown",
   "id": "1ba60c10",
   "metadata": {},
   "source": [
    "Some of the columns seem like they represent categorical values, but we should confirm by checking the number of unique values in those columns:\n",
    "\n",
    "* `home_ownership:` home ownership status, can only be 1 of 4 categorical values according to the data dictionary,\n",
    "* `verification_status:` indicates if income was verified by Lending Club,\n",
    "* `emp_length:` number of years the borrower was employed upon time of application,\n",
    "* `term:` number of payments on the loan, either 36 or 60,\n",
    "* `addr_state:` borrower's state of residence,\n",
    "* `purpose:` a category provided by the borrower for the loan request,\n",
    "* `title:` loan title provided by the borrower,\n",
    "\n",
    "There are also two columns that represent numeric values and need to be converted:\n",
    "\n",
    "* `int_rate:` interest rate of the loan in %,\n",
    "* `revol_util:` revolving line utilization rate or the amount of credit the borrower is using relative to all available credit.\n",
    "\n",
    "Based on the first row's values for purpose and title, it seems like these columns could reflect the same information. Let's explore the unique value counts separately to confirm if this is true.\n",
    "\n",
    "Lastly, some of the columns contain date values that would require a good amount of feature engineering for them to be potentially useful:\n",
    "\n",
    "* `earliest_cr_line:` The month the borrower's earliest reported credit line was opened,\n",
    "* `last_credit_pull_d:` The most recent month Lending Club pulled credit for this loan.\n",
    "\n",
    "Since these date features require some feature engineering for modeling purposes, let's remove these date columns from the dataframe."
   ]
  },
  {
   "cell_type": "code",
   "execution_count": 17,
   "id": "fff40865",
   "metadata": {},
   "outputs": [],
   "source": [
    "loans = loans.drop(['earliest_cr_line', 'last_credit_pull_d'], axis=1)"
   ]
  },
  {
   "cell_type": "markdown",
   "id": "dd617ada",
   "metadata": {},
   "source": [
    "We will explore the categorical values."
   ]
  },
  {
   "cell_type": "code",
   "execution_count": 18,
   "id": "1b45d834",
   "metadata": {},
   "outputs": [
    {
     "name": "stdout",
     "output_type": "stream",
     "text": [
      "RENT        18112\n",
      "MORTGAGE    16686\n",
      "OWN          2778\n",
      "OTHER          96\n",
      "NONE            3\n",
      "Name: home_ownership, dtype: int64\n",
      "\n",
      "\n",
      "Not Verified       16281\n",
      "Verified           11856\n",
      "Source Verified     9538\n",
      "Name: verification_status, dtype: int64\n",
      "\n",
      "\n",
      "10+ years    8545\n",
      "< 1 year     4513\n",
      "2 years      4303\n",
      "3 years      4022\n",
      "4 years      3353\n",
      "5 years      3202\n",
      "1 year       3176\n",
      "6 years      2177\n",
      "7 years      1714\n",
      "8 years      1442\n",
      "9 years      1228\n",
      "Name: emp_length, dtype: int64\n",
      "\n",
      "\n",
      " 36 months    28234\n",
      " 60 months     9441\n",
      "Name: term, dtype: int64\n",
      "\n",
      "\n",
      "CA    6776\n",
      "NY    3614\n",
      "FL    2704\n",
      "TX    2613\n",
      "NJ    1776\n",
      "IL    1447\n",
      "PA    1442\n",
      "VA    1347\n",
      "GA    1323\n",
      "MA    1272\n",
      "OH    1149\n",
      "MD    1008\n",
      "AZ     807\n",
      "WA     788\n",
      "CO     748\n",
      "NC     729\n",
      "CT     711\n",
      "MI     678\n",
      "MO     648\n",
      "MN     581\n",
      "NV     466\n",
      "SC     454\n",
      "WI     427\n",
      "OR     422\n",
      "LA     420\n",
      "AL     420\n",
      "KY     311\n",
      "OK     285\n",
      "UT     249\n",
      "KS     249\n",
      "AR     229\n",
      "DC     209\n",
      "RI     194\n",
      "NM     180\n",
      "WV     164\n",
      "HI     162\n",
      "NH     157\n",
      "DE     110\n",
      "MT      77\n",
      "AK      76\n",
      "WY      76\n",
      "SD      60\n",
      "VT      53\n",
      "MS      19\n",
      "TN      17\n",
      "IN       9\n",
      "ID       6\n",
      "NE       5\n",
      "IA       5\n",
      "ME       3\n",
      "Name: addr_state, dtype: int64\n",
      "\n",
      "\n"
     ]
    }
   ],
   "source": [
    "cols = ['home_ownership', 'verification_status', 'emp_length', 'term', 'addr_state']\n",
    "\n",
    "for col in cols:\n",
    "    print(loans[col].value_counts())\n",
    "    print('\\n')"
   ]
  },
  {
   "cell_type": "markdown",
   "id": "8219cfd6",
   "metadata": {},
   "source": [
    "We will clean the emp_length column and treat it as a numerical one, since the values have ordering (2 years of employment is less than 8 years)."
   ]
  },
  {
   "cell_type": "code",
   "execution_count": 19,
   "id": "47b64136",
   "metadata": {},
   "outputs": [],
   "source": [
    "mapping_dict = {\n",
    "    \"emp_length\": {\n",
    "        \"10+ years\": 10,\n",
    "        \"9 years\": 9,\n",
    "        \"8 years\": 8,\n",
    "        \"7 years\": 7,\n",
    "        \"6 years\": 6,\n",
    "        \"5 years\": 5,\n",
    "        \"4 years\": 4,\n",
    "        \"3 years\": 3,\n",
    "        \"2 years\": 2,\n",
    "        \"1 year\": 1,\n",
    "        \"< 1 year\": 0,\n",
    "        \"n/a\": 0\n",
    "    }\n",
    "}\n",
    "\n",
    "loans = loans.replace(mapping_dict)"
   ]
  },
  {
   "cell_type": "markdown",
   "id": "63b44ee1",
   "metadata": {},
   "source": [
    "We'll check `title` and `purpose` columns to see if these columns could reflect the same information."
   ]
  },
  {
   "cell_type": "code",
   "execution_count": 20,
   "id": "bc1d6b6e",
   "metadata": {},
   "outputs": [
    {
     "name": "stdout",
     "output_type": "stream",
     "text": [
      "Debt Consolidation                       2068\n",
      "Debt Consolidation Loan                  1599\n",
      "Personal Loan                             624\n",
      "Consolidation                             488\n",
      "debt consolidation                        466\n",
      "                                         ... \n",
      "Consolidate at a better interest rate       1\n",
      "Paying off all credit cards                 1\n",
      "Ginger                                      1\n",
      "Helping Dad with House                      1\n",
      "Pay Day Loan                                1\n",
      "Name: title, Length: 18881, dtype: int64\n",
      "\n",
      "\n",
      "debt_consolidation    17751\n",
      "credit_card            4911\n",
      "other                  3711\n",
      "home_improvement       2808\n",
      "major_purchase         2083\n",
      "small_business         1719\n",
      "car                    1459\n",
      "wedding                 916\n",
      "medical                 655\n",
      "moving                  552\n",
      "house                   356\n",
      "vacation                348\n",
      "educational             312\n",
      "renewable_energy         94\n",
      "Name: purpose, dtype: int64\n",
      "\n",
      "\n"
     ]
    }
   ],
   "source": [
    "for col in ['title', 'purpose']:\n",
    "    print(loans[col].value_counts())\n",
    "    print('\\n')"
   ]
  },
  {
   "cell_type": "markdown",
   "id": "b808bc70",
   "metadata": {},
   "source": [
    "It seems like the purpose and title columns do contain overlapping information, but we'll keep the purpose column since it contains a few discrete values. We will also drop the `addr_state` column since it contains many discrete values, and we'd need to add 49 dummy variable columns to use it for classification."
   ]
  },
  {
   "cell_type": "code",
   "execution_count": 21,
   "id": "c14d314f",
   "metadata": {},
   "outputs": [],
   "source": [
    "loans = loans.drop(['addr_state', 'title'], axis=1)"
   ]
  },
  {
   "cell_type": "markdown",
   "id": "9ffb8d1f",
   "metadata": {},
   "source": [
    "We will encode the `home_ownership`, `verification_status`, `purpose`, and `term` columns as dummy variables."
   ]
  },
  {
   "cell_type": "code",
   "execution_count": 22,
   "id": "6fb831a0",
   "metadata": {},
   "outputs": [],
   "source": [
    "cat_columns = [\"home_ownership\", \"verification_status\", \"purpose\", \"term\"]\n",
    "dummy_df = pd.get_dummies(loans[cat_columns])\n",
    "loans = pd.concat([loans, dummy_df], axis=1)\n",
    "loans = loans.drop(cat_columns, axis=1)"
   ]
  },
  {
   "cell_type": "markdown",
   "id": "08dcb086",
   "metadata": {},
   "source": [
    "Then, we will convert the `int_rate` and `revol_util` columns to float columns."
   ]
  },
  {
   "cell_type": "code",
   "execution_count": 23,
   "id": "41797115",
   "metadata": {},
   "outputs": [],
   "source": [
    "loans['int_rate'] = loans['int_rate'].str.rstrip('%').astype('float')\n",
    "loans['revol_util'] = loans['revol_util'].str.rstrip('%').astype('float')"
   ]
  },
  {
   "cell_type": "code",
   "execution_count": 24,
   "id": "e6c0d9c5",
   "metadata": {},
   "outputs": [
    {
     "data": {
      "text/html": [
       "<div>\n",
       "<style scoped>\n",
       "    .dataframe tbody tr th:only-of-type {\n",
       "        vertical-align: middle;\n",
       "    }\n",
       "\n",
       "    .dataframe tbody tr th {\n",
       "        vertical-align: top;\n",
       "    }\n",
       "\n",
       "    .dataframe thead th {\n",
       "        text-align: right;\n",
       "    }\n",
       "</style>\n",
       "<table border=\"1\" class=\"dataframe\">\n",
       "  <thead>\n",
       "    <tr style=\"text-align: right;\">\n",
       "      <th></th>\n",
       "      <th>loan_amnt</th>\n",
       "      <th>int_rate</th>\n",
       "      <th>installment</th>\n",
       "      <th>emp_length</th>\n",
       "      <th>annual_inc</th>\n",
       "      <th>loan_status</th>\n",
       "      <th>dti</th>\n",
       "      <th>delinq_2yrs</th>\n",
       "      <th>inq_last_6mths</th>\n",
       "      <th>open_acc</th>\n",
       "      <th>...</th>\n",
       "      <th>purpose_major_purchase</th>\n",
       "      <th>purpose_medical</th>\n",
       "      <th>purpose_moving</th>\n",
       "      <th>purpose_other</th>\n",
       "      <th>purpose_renewable_energy</th>\n",
       "      <th>purpose_small_business</th>\n",
       "      <th>purpose_vacation</th>\n",
       "      <th>purpose_wedding</th>\n",
       "      <th>term_ 36 months</th>\n",
       "      <th>term_ 60 months</th>\n",
       "    </tr>\n",
       "  </thead>\n",
       "  <tbody>\n",
       "    <tr>\n",
       "      <th>0</th>\n",
       "      <td>5000.0</td>\n",
       "      <td>10.65</td>\n",
       "      <td>162.87</td>\n",
       "      <td>10</td>\n",
       "      <td>24000.0</td>\n",
       "      <td>0</td>\n",
       "      <td>27.65</td>\n",
       "      <td>0.0</td>\n",
       "      <td>1.0</td>\n",
       "      <td>3.0</td>\n",
       "      <td>...</td>\n",
       "      <td>0</td>\n",
       "      <td>0</td>\n",
       "      <td>0</td>\n",
       "      <td>0</td>\n",
       "      <td>0</td>\n",
       "      <td>0</td>\n",
       "      <td>0</td>\n",
       "      <td>0</td>\n",
       "      <td>1</td>\n",
       "      <td>0</td>\n",
       "    </tr>\n",
       "    <tr>\n",
       "      <th>1</th>\n",
       "      <td>2500.0</td>\n",
       "      <td>15.27</td>\n",
       "      <td>59.83</td>\n",
       "      <td>0</td>\n",
       "      <td>30000.0</td>\n",
       "      <td>1</td>\n",
       "      <td>1.00</td>\n",
       "      <td>0.0</td>\n",
       "      <td>5.0</td>\n",
       "      <td>3.0</td>\n",
       "      <td>...</td>\n",
       "      <td>0</td>\n",
       "      <td>0</td>\n",
       "      <td>0</td>\n",
       "      <td>0</td>\n",
       "      <td>0</td>\n",
       "      <td>0</td>\n",
       "      <td>0</td>\n",
       "      <td>0</td>\n",
       "      <td>0</td>\n",
       "      <td>1</td>\n",
       "    </tr>\n",
       "    <tr>\n",
       "      <th>2</th>\n",
       "      <td>2400.0</td>\n",
       "      <td>15.96</td>\n",
       "      <td>84.33</td>\n",
       "      <td>10</td>\n",
       "      <td>12252.0</td>\n",
       "      <td>0</td>\n",
       "      <td>8.72</td>\n",
       "      <td>0.0</td>\n",
       "      <td>2.0</td>\n",
       "      <td>2.0</td>\n",
       "      <td>...</td>\n",
       "      <td>0</td>\n",
       "      <td>0</td>\n",
       "      <td>0</td>\n",
       "      <td>0</td>\n",
       "      <td>0</td>\n",
       "      <td>1</td>\n",
       "      <td>0</td>\n",
       "      <td>0</td>\n",
       "      <td>1</td>\n",
       "      <td>0</td>\n",
       "    </tr>\n",
       "    <tr>\n",
       "      <th>3</th>\n",
       "      <td>10000.0</td>\n",
       "      <td>13.49</td>\n",
       "      <td>339.31</td>\n",
       "      <td>10</td>\n",
       "      <td>49200.0</td>\n",
       "      <td>0</td>\n",
       "      <td>20.00</td>\n",
       "      <td>0.0</td>\n",
       "      <td>1.0</td>\n",
       "      <td>10.0</td>\n",
       "      <td>...</td>\n",
       "      <td>0</td>\n",
       "      <td>0</td>\n",
       "      <td>0</td>\n",
       "      <td>1</td>\n",
       "      <td>0</td>\n",
       "      <td>0</td>\n",
       "      <td>0</td>\n",
       "      <td>0</td>\n",
       "      <td>1</td>\n",
       "      <td>0</td>\n",
       "    </tr>\n",
       "    <tr>\n",
       "      <th>5</th>\n",
       "      <td>5000.0</td>\n",
       "      <td>7.90</td>\n",
       "      <td>156.46</td>\n",
       "      <td>3</td>\n",
       "      <td>36000.0</td>\n",
       "      <td>0</td>\n",
       "      <td>11.20</td>\n",
       "      <td>0.0</td>\n",
       "      <td>3.0</td>\n",
       "      <td>9.0</td>\n",
       "      <td>...</td>\n",
       "      <td>0</td>\n",
       "      <td>0</td>\n",
       "      <td>0</td>\n",
       "      <td>0</td>\n",
       "      <td>0</td>\n",
       "      <td>0</td>\n",
       "      <td>0</td>\n",
       "      <td>1</td>\n",
       "      <td>1</td>\n",
       "      <td>0</td>\n",
       "    </tr>\n",
       "  </tbody>\n",
       "</table>\n",
       "<p>5 rows × 38 columns</p>\n",
       "</div>"
      ],
      "text/plain": [
       "   loan_amnt  int_rate  installment  emp_length  annual_inc  loan_status  \\\n",
       "0     5000.0     10.65       162.87          10     24000.0            0   \n",
       "1     2500.0     15.27        59.83           0     30000.0            1   \n",
       "2     2400.0     15.96        84.33          10     12252.0            0   \n",
       "3    10000.0     13.49       339.31          10     49200.0            0   \n",
       "5     5000.0      7.90       156.46           3     36000.0            0   \n",
       "\n",
       "     dti  delinq_2yrs  inq_last_6mths  open_acc  ...  purpose_major_purchase  \\\n",
       "0  27.65          0.0             1.0       3.0  ...                       0   \n",
       "1   1.00          0.0             5.0       3.0  ...                       0   \n",
       "2   8.72          0.0             2.0       2.0  ...                       0   \n",
       "3  20.00          0.0             1.0      10.0  ...                       0   \n",
       "5  11.20          0.0             3.0       9.0  ...                       0   \n",
       "\n",
       "   purpose_medical  purpose_moving  purpose_other  purpose_renewable_energy  \\\n",
       "0                0               0              0                         0   \n",
       "1                0               0              0                         0   \n",
       "2                0               0              0                         0   \n",
       "3                0               0              1                         0   \n",
       "5                0               0              0                         0   \n",
       "\n",
       "   purpose_small_business  purpose_vacation  purpose_wedding  term_ 36 months  \\\n",
       "0                       0                 0                0                1   \n",
       "1                       0                 0                0                0   \n",
       "2                       1                 0                0                1   \n",
       "3                       0                 0                0                1   \n",
       "5                       0                 0                1                1   \n",
       "\n",
       "   term_ 60 months  \n",
       "0                0  \n",
       "1                1  \n",
       "2                0  \n",
       "3                0  \n",
       "5                0  \n",
       "\n",
       "[5 rows x 38 columns]"
      ]
     },
     "execution_count": 24,
     "metadata": {},
     "output_type": "execute_result"
    }
   ],
   "source": [
    "loans.head()"
   ]
  },
  {
   "cell_type": "markdown",
   "id": "91bc1830",
   "metadata": {},
   "source": [
    "We will also check for collinearity. Collinearity occurs where more than one feature contains data that are similar.\n",
    "Collinearity also occurs when we create dummy variables. The case of gender (male/female) as is an example. Including a dummy variable for each is redundant (of male is 0, female is 1, and vice-versa)."
   ]
  },
  {
   "cell_type": "markdown",
   "id": "e0badbff",
   "metadata": {},
   "source": [
    "We can see this below by plotting a correlation heatmap."
   ]
  },
  {
   "cell_type": "code",
   "execution_count": 25,
   "id": "bcd28e7c",
   "metadata": {},
   "outputs": [],
   "source": [
    "def plot_correlation_heatmap(df):\n",
    "    corr = df.corr()\n",
    "    \n",
    "    sns.set(style=\"white\")\n",
    "    mask = np.zeros_like(corr, dtype=np.bool)\n",
    "    mask[np.triu_indices_from(mask)] = True\n",
    "\n",
    "    f, ax = plt.subplots(figsize=(11, 9))\n",
    "    cmap = sns.diverging_palette(220, 10, as_cmap=True)\n",
    "\n",
    "\n",
    "    sns.heatmap(corr, mask=mask, cmap=cmap, vmax=.3, center=0,\n",
    "            square=True, linewidths=.5, cbar_kws={\"shrink\": .5})\n",
    "    plt.show()"
   ]
  },
  {
   "cell_type": "code",
   "execution_count": 26,
   "id": "e8992505",
   "metadata": {},
   "outputs": [
    {
     "data": {
      "image/png": "[encoded data removed]",
      "text/plain": [
       "<Figure size 792x648 with 2 Axes>"
      ]
     },
     "metadata": {},
     "output_type": "display_data"
    }
   ],
   "source": [
    "plot_correlation_heatmap(loans)"
   ]
  },
  {
   "cell_type": "markdown",
   "id": "cadf56d9",
   "metadata": {},
   "source": [
    "The solution is to remove one of the dummy columns, although most algorithms are not affected by it."
   ]
  },
  {
   "cell_type": "code",
   "execution_count": 27,
   "id": "1fcfb0c8",
   "metadata": {},
   "outputs": [],
   "source": [
    "cat_columns_reduntant = [\"home_ownership_NONE\", \"verification_status_Verified\", \"purpose_moving\", \"term_ 36 months\"]\n",
    "\n",
    "loans = loans.drop(cat_columns_reduntant, axis=1)"
   ]
  },
  {
   "cell_type": "code",
   "execution_count": 28,
   "id": "af31906d",
   "metadata": {},
   "outputs": [
    {
     "data": {
      "image/png": "[encoded data removed]",
      "text/plain": [
       "<Figure size 792x648 with 2 Axes>"
      ]
     },
     "metadata": {},
     "output_type": "display_data"
    }
   ],
   "source": [
    "plot_correlation_heatmap(loans)"
   ]
  },
  {
   "cell_type": "code",
   "execution_count": 29,
   "id": "50352980",
   "metadata": {},
   "outputs": [],
   "source": [
    "# Reordering the columns\n",
    "\n",
    "loans = loans[['loan_amnt', 'int_rate', 'installment', 'emp_length', 'annual_inc',\n",
    "       'dti', 'delinq_2yrs', 'inq_last_6mths', 'open_acc',\n",
    "       'pub_rec', 'revol_bal', 'revol_util', 'total_acc',\n",
    "       'home_ownership_MORTGAGE', 'home_ownership_OTHER', 'home_ownership_OWN',\n",
    "       'home_ownership_RENT', 'verification_status_Not Verified',\n",
    "       'verification_status_Source Verified', 'purpose_car',\n",
    "       'purpose_credit_card', 'purpose_debt_consolidation',\n",
    "       'purpose_educational', 'purpose_home_improvement', 'purpose_house',\n",
    "       'purpose_major_purchase', 'purpose_medical', 'purpose_other',\n",
    "       'purpose_renewable_energy', 'purpose_small_business',\n",
    "       'purpose_vacation', 'purpose_wedding', 'term_ 60 months', 'loan_status',]]"
   ]
  },
  {
   "cell_type": "code",
   "execution_count": 30,
   "id": "b4335b32",
   "metadata": {},
   "outputs": [],
   "source": [
    "loans.to_csv(\"datasets/loans_clean.csv\", index=False)"
   ]
  },
  {
   "cell_type": "code",
   "execution_count": 147,
   "id": "8949d617",
   "metadata": {},
   "outputs": [
    {
     "data": {
      "text/html": [
       "<div>\n",
       "<style scoped>\n",
       "    .dataframe tbody tr th:only-of-type {\n",
       "        vertical-align: middle;\n",
       "    }\n",
       "\n",
       "    .dataframe tbody tr th {\n",
       "        vertical-align: top;\n",
       "    }\n",
       "\n",
       "    .dataframe thead th {\n",
       "        text-align: right;\n",
       "    }\n",
       "</style>\n",
       "<table border=\"1\" class=\"dataframe\">\n",
       "  <thead>\n",
       "    <tr style=\"text-align: right;\">\n",
       "      <th></th>\n",
       "      <th>loan_amnt</th>\n",
       "      <th>int_rate</th>\n",
       "      <th>installment</th>\n",
       "      <th>emp_length</th>\n",
       "      <th>annual_inc</th>\n",
       "      <th>dti</th>\n",
       "      <th>delinq_2yrs</th>\n",
       "      <th>inq_last_6mths</th>\n",
       "      <th>open_acc</th>\n",
       "      <th>pub_rec</th>\n",
       "      <th>...</th>\n",
       "      <th>purpose_house</th>\n",
       "      <th>purpose_major_purchase</th>\n",
       "      <th>purpose_medical</th>\n",
       "      <th>purpose_other</th>\n",
       "      <th>purpose_renewable_energy</th>\n",
       "      <th>purpose_small_business</th>\n",
       "      <th>purpose_vacation</th>\n",
       "      <th>purpose_wedding</th>\n",
       "      <th>term_ 60 months</th>\n",
       "      <th>loan_status</th>\n",
       "    </tr>\n",
       "  </thead>\n",
       "  <tbody>\n",
       "    <tr>\n",
       "      <th>0</th>\n",
       "      <td>5000.0</td>\n",
       "      <td>10.65</td>\n",
       "      <td>162.87</td>\n",
       "      <td>10</td>\n",
       "      <td>24000.0</td>\n",
       "      <td>27.65</td>\n",
       "      <td>0.0</td>\n",
       "      <td>1.0</td>\n",
       "      <td>3.0</td>\n",
       "      <td>0.0</td>\n",
       "      <td>...</td>\n",
       "      <td>0</td>\n",
       "      <td>0</td>\n",
       "      <td>0</td>\n",
       "      <td>0</td>\n",
       "      <td>0</td>\n",
       "      <td>0</td>\n",
       "      <td>0</td>\n",
       "      <td>0</td>\n",
       "      <td>0</td>\n",
       "      <td>0</td>\n",
       "    </tr>\n",
       "    <tr>\n",
       "      <th>1</th>\n",
       "      <td>2500.0</td>\n",
       "      <td>15.27</td>\n",
       "      <td>59.83</td>\n",
       "      <td>0</td>\n",
       "      <td>30000.0</td>\n",
       "      <td>1.00</td>\n",
       "      <td>0.0</td>\n",
       "      <td>5.0</td>\n",
       "      <td>3.0</td>\n",
       "      <td>0.0</td>\n",
       "      <td>...</td>\n",
       "      <td>0</td>\n",
       "      <td>0</td>\n",
       "      <td>0</td>\n",
       "      <td>0</td>\n",
       "      <td>0</td>\n",
       "      <td>0</td>\n",
       "      <td>0</td>\n",
       "      <td>0</td>\n",
       "      <td>1</td>\n",
       "      <td>1</td>\n",
       "    </tr>\n",
       "    <tr>\n",
       "      <th>2</th>\n",
       "      <td>2400.0</td>\n",
       "      <td>15.96</td>\n",
       "      <td>84.33</td>\n",
       "      <td>10</td>\n",
       "      <td>12252.0</td>\n",
       "      <td>8.72</td>\n",
       "      <td>0.0</td>\n",
       "      <td>2.0</td>\n",
       "      <td>2.0</td>\n",
       "      <td>0.0</td>\n",
       "      <td>...</td>\n",
       "      <td>0</td>\n",
       "      <td>0</td>\n",
       "      <td>0</td>\n",
       "      <td>0</td>\n",
       "      <td>0</td>\n",
       "      <td>1</td>\n",
       "      <td>0</td>\n",
       "      <td>0</td>\n",
       "      <td>0</td>\n",
       "      <td>0</td>\n",
       "    </tr>\n",
       "    <tr>\n",
       "      <th>3</th>\n",
       "      <td>10000.0</td>\n",
       "      <td>13.49</td>\n",
       "      <td>339.31</td>\n",
       "      <td>10</td>\n",
       "      <td>49200.0</td>\n",
       "      <td>20.00</td>\n",
       "      <td>0.0</td>\n",
       "      <td>1.0</td>\n",
       "      <td>10.0</td>\n",
       "      <td>0.0</td>\n",
       "      <td>...</td>\n",
       "      <td>0</td>\n",
       "      <td>0</td>\n",
       "      <td>0</td>\n",
       "      <td>1</td>\n",
       "      <td>0</td>\n",
       "      <td>0</td>\n",
       "      <td>0</td>\n",
       "      <td>0</td>\n",
       "      <td>0</td>\n",
       "      <td>0</td>\n",
       "    </tr>\n",
       "    <tr>\n",
       "      <th>4</th>\n",
       "      <td>5000.0</td>\n",
       "      <td>7.90</td>\n",
       "      <td>156.46</td>\n",
       "      <td>3</td>\n",
       "      <td>36000.0</td>\n",
       "      <td>11.20</td>\n",
       "      <td>0.0</td>\n",
       "      <td>3.0</td>\n",
       "      <td>9.0</td>\n",
       "      <td>0.0</td>\n",
       "      <td>...</td>\n",
       "      <td>0</td>\n",
       "      <td>0</td>\n",
       "      <td>0</td>\n",
       "      <td>0</td>\n",
       "      <td>0</td>\n",
       "      <td>0</td>\n",
       "      <td>0</td>\n",
       "      <td>1</td>\n",
       "      <td>0</td>\n",
       "      <td>0</td>\n",
       "    </tr>\n",
       "  </tbody>\n",
       "</table>\n",
       "<p>5 rows × 34 columns</p>\n",
       "</div>"
      ],
      "text/plain": [
       "   loan_amnt  int_rate  installment  emp_length  annual_inc    dti  \\\n",
       "0     5000.0     10.65       162.87          10     24000.0  27.65   \n",
       "1     2500.0     15.27        59.83           0     30000.0   1.00   \n",
       "2     2400.0     15.96        84.33          10     12252.0   8.72   \n",
       "3    10000.0     13.49       339.31          10     49200.0  20.00   \n",
       "4     5000.0      7.90       156.46           3     36000.0  11.20   \n",
       "\n",
       "   delinq_2yrs  inq_last_6mths  open_acc  pub_rec  ...  purpose_house  \\\n",
       "0          0.0             1.0       3.0      0.0  ...              0   \n",
       "1          0.0             5.0       3.0      0.0  ...              0   \n",
       "2          0.0             2.0       2.0      0.0  ...              0   \n",
       "3          0.0             1.0      10.0      0.0  ...              0   \n",
       "4          0.0             3.0       9.0      0.0  ...              0   \n",
       "\n",
       "   purpose_major_purchase  purpose_medical  purpose_other  \\\n",
       "0                       0                0              0   \n",
       "1                       0                0              0   \n",
       "2                       0                0              0   \n",
       "3                       0                0              1   \n",
       "4                       0                0              0   \n",
       "\n",
       "   purpose_renewable_energy  purpose_small_business  purpose_vacation  \\\n",
       "0                         0                       0                 0   \n",
       "1                         0                       0                 0   \n",
       "2                         0                       1                 0   \n",
       "3                         0                       0                 0   \n",
       "4                         0                       0                 0   \n",
       "\n",
       "   purpose_wedding  term_ 60 months  loan_status  \n",
       "0                0                0            0  \n",
       "1                0                1            1  \n",
       "2                0                0            0  \n",
       "3                0                0            0  \n",
       "4                1                0            0  \n",
       "\n",
       "[5 rows x 34 columns]"
      ]
     },
     "execution_count": 147,
     "metadata": {},
     "output_type": "execute_result"
    }
   ],
   "source": [
    "import pandas as pd\n",
    "loans = pd.read_csv(\"datasets/loans_clean.csv\")\n",
    "loans.head()"
   ]
  },
  {
   "cell_type": "code",
   "execution_count": 148,
   "id": "8c1494f8",
   "metadata": {},
   "outputs": [],
   "source": [
    "y = loans[\"loan_status\"]\n",
    "X = loans.drop(\"loan_status\", axis=1)"
   ]
  },
  {
   "cell_type": "markdown",
   "id": "62a691c7",
   "metadata": {},
   "source": [
    "First, we will split the data into training and test sets."
   ]
  },
  {
   "cell_type": "code",
   "execution_count": 149,
   "id": "672e11e9",
   "metadata": {},
   "outputs": [],
   "source": [
    "from sklearn.model_selection import train_test_split\n",
    "X_train, X_test, y_train, y_test = train_test_split(X, y==1, test_size=0.2, random_state = 42, stratify=y)"
   ]
  },
  {
   "cell_type": "markdown",
   "id": "43ae6c56",
   "metadata": {},
   "source": [
    "We will also scale the data as machine learning algorithms perform better when the data is in the same range. It's important the scaling is done within the cross validation loop. We will do this in the pipeline when making the training the model."
   ]
  },
  {
   "cell_type": "markdown",
   "id": "152f53f8",
   "metadata": {},
   "source": [
    "### Making predictions"
   ]
  },
  {
   "cell_type": "markdown",
   "id": "84a256df",
   "metadata": {},
   "source": [
    "The algorithm will make predictions about whether or not a loan will be paid off on time, which is contained in the `loan_status` column."
   ]
  },
  {
   "cell_type": "code",
   "execution_count": 150,
   "id": "588253d3",
   "metadata": {},
   "outputs": [
    {
     "data": {
      "text/plain": [
       "0    0.856961\n",
       "1    0.143039\n",
       "Name: loan_status, dtype: float64"
      ]
     },
     "execution_count": 150,
     "metadata": {},
     "output_type": "execute_result"
    }
   ],
   "source": [
    "loans['loan_status'].value_counts(normalize=True)"
   ]
  },
  {
   "cell_type": "markdown",
   "id": "e4660b79",
   "metadata": {},
   "source": [
    "There are 6 times as many loans that were paid off on time (0), than loans that weren't paid off on time (1). As we mentioned earlier, we need to keep the class imbalance in mind as we build machine learning models."
   ]
  },
  {
   "cell_type": "markdown",
   "id": "c5b6d8ff",
   "metadata": {},
   "source": [
    "This will be a binary classification problem. Before diving in and selecting an algorithm to apply to the data, we should select an error metric. An error metric will help us figure out when our model is performing well, and when it's performing poorly.\n",
    "\n",
    "Our objective in this is to make money -- we want to fund enough loans that are paid off on time to offset our losses from loans that aren't paid off.\n",
    "\n",
    "We're primarily concerned with false positives and false negatives. Both of these are different types of misclassifications. With a false positive, we predict that a loan will default, but it actually isn't. This loses us potential money, since we didn't fund a loan that actually would have been paid off. \n",
    "\n",
    "With a false negative, we predict that a loan won't be paid off on time, but it actually would be paid off on time. This costs us money, since we fund loans that lose us money. "
   ]
  },
  {
   "cell_type": "markdown",
   "id": "fa466172",
   "metadata": {},
   "source": [
    "Since we're viewing this problem from the standpoint of a conservative investor, we need to treat false positives differently than false negatives. A conservative investor would want to minimize risk and avoid false positives as much as possible. They'd be more secure with missing out on opportunities (false negatives) than they would be with funding a risky loan (false positives)."
   ]
  },
  {
   "cell_type": "markdown",
   "id": "8151383d",
   "metadata": {},
   "source": [
    "Because of the high class imbalance we want to optimize for:\n",
    "\n",
    "* high recall (true positive rate)\n",
    "* low fall-out (false positive rate) or (1-specificity)"
   ]
  },
  {
   "cell_type": "markdown",
   "id": "94c6262a",
   "metadata": {},
   "source": [
    "In order to fit the machine learning models, we'll use the `Scikit-learn` library. \n",
    "We will use Random Forests which are able to work with nonlinear data and learn complex conditionals."
   ]
  },
  {
   "cell_type": "markdown",
   "id": "5cb93c26",
   "metadata": {},
   "source": [
    "To get a classifier to correct for imbalanced classes, we will tell the classifier to penalize misclassifications of the less prevalent class more than the other class."
   ]
  },
  {
   "cell_type": "code",
   "execution_count": 201,
   "id": "4670161e",
   "metadata": {
    "tags": []
   },
   "outputs": [
    {
     "name": "stdout",
     "output_type": "stream",
     "text": [
      "Recall: 0.011131725417439703\n"
     ]
    }
   ],
   "source": [
    "from sklearn.ensemble import RandomForestClassifier\n",
    "from sklearn.pipeline import Pipeline\n",
    "from sklearn.preprocessing import StandardScaler\n",
    "from sklearn.metrics import recall_score\n",
    "\n",
    "#Build pipeline\n",
    "rf_pipe = Pipeline([(\"scaler\", StandardScaler()),\n",
    "                    (\"classifier\", RandomForestClassifier(random_state=42))])\n",
    "\n",
    "#Train the model\n",
    "rf_pipe.fit(X_train, y_train)\n",
    "\n",
    "#Make predictions\n",
    "pred = rf_pipe.predict(X_test)\n",
    "print(f\"Recall: {recall_score(y_test, pred)}\")"
   ]
  },
  {
   "cell_type": "markdown",
   "id": "f7aa490b",
   "metadata": {},
   "source": [
    "The score we received is at a threshold of 0.5 which might not be what we need for decision making. The ROC curve shows the performance of a classification model at all classification thresholds. The AUC(area under the curve) higher than 0.5 means our classifier is better than random guessing."
   ]
  },
  {
   "cell_type": "code",
   "execution_count": 202,
   "id": "0e3ad07f",
   "metadata": {},
   "outputs": [],
   "source": [
    "from sklearn.metrics import confusion_matrix, plot_confusion_matrix\n",
    "from sklearn.metrics import classification_report\n",
    "from sklearn.metrics import plot_roc_curve\n",
    "from sklearn.metrics import (precision_recall_curve, PrecisionRecallDisplay)"
   ]
  },
  {
   "cell_type": "code",
   "execution_count": 204,
   "id": "e19b6975",
   "metadata": {},
   "outputs": [
    {
     "data": {
      "image/png": "[encoded data removed]",
      "text/plain": [
       "<Figure size 432x288 with 1 Axes>"
      ]
     },
     "metadata": {},
     "output_type": "display_data"
    }
   ],
   "source": [
    "plot_roc_curve(rf_pipe, X_test, y_test);"
   ]
  },
  {
   "cell_type": "markdown",
   "id": "3747fc1f",
   "metadata": {},
   "source": [
    "In order to get a even better understanding at how our classifer does with the minority class, we can look at the confusion matrix."
   ]
  },
  {
   "cell_type": "code",
   "execution_count": 159,
   "id": "486f0d93",
   "metadata": {},
   "outputs": [
    {
     "data": {
      "image/png": "[encoded data removed]",
      "text/plain": [
       "<Figure size 1008x288 with 4 Axes>"
      ]
     },
     "metadata": {},
     "output_type": "display_data"
    }
   ],
   "source": [
    "cm = confusion_matrix(y_test, pred)\n",
    "\n",
    "fig, ax = plt.subplots(1,2, figsize=(14,4))\n",
    "plot_confusion_matrix(rf_pipe, X_test, y_test, cmap='gray_r', ax=ax[0]);\n",
    "plot_confusion_matrix(rf_pipe, X_test, y_test, cmap='gray_r', normalize=\"true\", ax=ax[1]);"
   ]
  },
  {
   "cell_type": "markdown",
   "id": "1fa8143e",
   "metadata": {},
   "source": [
    "We can also look at the classification report."
   ]
  },
  {
   "cell_type": "code",
   "execution_count": 160,
   "id": "70941ea0",
   "metadata": {},
   "outputs": [
    {
     "name": "stdout",
     "output_type": "stream",
     "text": [
      "              precision    recall  f1-score   support\n",
      "\n",
      "       False       0.86      1.00      0.92      6457\n",
      "        True       0.40      0.01      0.02      1078\n",
      "\n",
      "    accuracy                           0.86      7535\n",
      "   macro avg       0.63      0.50      0.47      7535\n",
      "weighted avg       0.79      0.86      0.79      7535\n",
      "\n"
     ]
    }
   ],
   "source": [
    "print(classification_report(y_test, pred))"
   ]
  },
  {
   "cell_type": "markdown",
   "id": "d73e658b",
   "metadata": {},
   "source": [
    "While the model is good at minimizing `False Positives`, meaning we avoid funding bad loans since the model mostly predicts that a loan would be paid off on time, it is doing really poor at catching the loans that are actually going bad with a recall rate of only 0.01. We see this also by looking at the `macro avg` ratio which is 0.5, which means random prediction."
   ]
  },
  {
   "cell_type": "markdown",
   "id": "d32e6260",
   "metadata": {},
   "source": [
    "### Hyperparameter optimization"
   ]
  },
  {
   "cell_type": "markdown",
   "id": "1da4a54b",
   "metadata": {},
   "source": [
    "Let's try to optimize the RF classifier and see if we can obtain better results.\n",
    "We will use GridSearch which searches over specified parameter values for a classifier by using cross-validation."
   ]
  },
  {
   "cell_type": "code",
   "execution_count": 161,
   "id": "618e0f3a",
   "metadata": {},
   "outputs": [],
   "source": [
    "from sklearn.pipeline import make_pipeline\n",
    "from sklearn.ensemble import RandomForestClassifier\n",
    "from sklearn.metrics import confusion_matrix\n",
    "from sklearn.model_selection import GridSearchCV\n",
    "\n",
    "\n",
    "#Build pipeline\n",
    "rf_pipe = Pipeline([(\"scaler\", StandardScaler()),\n",
    "                    (\"classifier\", RandomForestClassifier(random_state=42))])\n",
    "\n",
    "#Instantiate the model\n",
    "hyperparameters = {\"classifier__criterion\": [\"entropy\", \"gini\"],\n",
    "                   \"classifier__max_depth\" : [5,10],\n",
    "                   \"classifier__max_features\" : [\"log2\", \"sqrt\"],\n",
    "                   \"classifier__min_samples_leaf\": [1, 5],\n",
    "                   \"classifier__min_samples_split\": [3,5],\n",
    "                   \"classifier__class_weight\": [None, \"balanced\"]\n",
    "                    }\n",
    "                   \n",
    "grid = GridSearchCV(rf_pipe, param_grid = hyperparameters, cv=5, n_jobs=-1, scoring=\"recall\" )\n",
    "grid.fit(X_train, y_train)\n",
    "\n",
    "#Make predictions\n",
    "pred = grid.predict(X_test)"
   ]
  },
  {
   "cell_type": "markdown",
   "id": "079b8212",
   "metadata": {},
   "source": [
    "Below we can see the optimized parameters obtained as a result. We can observe that indeed because our data is imbalanced, the model chose to correct for that with the `class_weight` parameter."
   ]
  },
  {
   "cell_type": "code",
   "execution_count": 162,
   "id": "a9fba8bd",
   "metadata": {},
   "outputs": [
    {
     "name": "stdout",
     "output_type": "stream",
     "text": [
      "Best_parameters: \n",
      "classifier__class_weight         balanced\n",
      "classifier__criterion                gini\n",
      "classifier__max_depth                   5\n",
      "classifier__max_features             log2\n",
      "classifier__min_samples_leaf            1\n",
      "classifier__min_samples_split           5\n",
      "dtype: object\n",
      "Best score 0.6167935196113488\n"
     ]
    }
   ],
   "source": [
    "best_params = grid.best_params_\n",
    "best_score = grid.best_score_\n",
    "print(f'Best_parameters: \\n{pd.Series(best_params)}')\n",
    "print(f'Best score {best_score}')"
   ]
  },
  {
   "cell_type": "markdown",
   "id": "993067ad",
   "metadata": {},
   "source": [
    "Let's dig deeper at how the tuned model performed."
   ]
  },
  {
   "cell_type": "code",
   "execution_count": 163,
   "id": "36740fe6",
   "metadata": {},
   "outputs": [
    {
     "data": {
      "image/png": "[encoded data removed]",
      "text/plain": [
       "<Figure size 432x288 with 1 Axes>"
      ]
     },
     "metadata": {},
     "output_type": "display_data"
    },
    {
     "data": {
      "image/png": "[encoded data removed]",
      "text/plain": [
       "<Figure size 1008x288 with 4 Axes>"
      ]
     },
     "metadata": {},
     "output_type": "display_data"
    }
   ],
   "source": [
    "plot_roc_curve(grid, X_test, y_test);\n",
    "\n",
    "cm = confusion_matrix(y_test, pred)\n",
    "fig, ax = plt.subplots(1,2, figsize=(14,4))\n",
    "plot_confusion_matrix(grid, X_test, y_test, cmap='gray_r', ax=ax[0]);\n",
    "plot_confusion_matrix(grid, X_test, y_test, cmap='gray_r', normalize=\"true\", ax=ax[1]);"
   ]
  },
  {
   "cell_type": "code",
   "execution_count": 164,
   "id": "14b71c02",
   "metadata": {},
   "outputs": [
    {
     "name": "stdout",
     "output_type": "stream",
     "text": [
      "              precision    recall  f1-score   support\n",
      "\n",
      "       False       0.92      0.66      0.76      6457\n",
      "        True       0.24      0.64      0.35      1078\n",
      "\n",
      "    accuracy                           0.65      7535\n",
      "   macro avg       0.58      0.65      0.56      7535\n",
      "weighted avg       0.82      0.65      0.70      7535\n",
      "\n"
     ]
    }
   ],
   "source": [
    "print(classification_report(y_test, pred))"
   ]
  },
  {
   "cell_type": "markdown",
   "id": "f6ac6a13",
   "metadata": {},
   "source": [
    "We can observe the trade-off between recall and fall-out in action. While we succeded at improving the recall rate, meaning we detect better the loans that will default, we miss more investing in succesful loans."
   ]
  },
  {
   "cell_type": "markdown",
   "id": "f6edd70d",
   "metadata": {},
   "source": [
    "### Decision making and changing thresholds\n",
    "\n",
    "Most models provide a probability measure that we can use in order to define a threshold that we can use for our goal – improving the `recall` rate. By default, in binary classifications the threshold is 50%. Below, we predict class `1` whenever our classifier predicts a probability higher than 40%."
   ]
  },
  {
   "cell_type": "code",
   "execution_count": 194,
   "id": "3c8a2bea",
   "metadata": {},
   "outputs": [],
   "source": [
    "y_pred = grid.predict_proba(X_test)[:,1] > 0.4"
   ]
  },
  {
   "cell_type": "code",
   "execution_count": 195,
   "id": "f5d4c025",
   "metadata": {},
   "outputs": [
    {
     "data": {
      "image/png": "[encoded data removed]",
      "text/plain": [
       "<Figure size 576x432 with 2 Axes>"
      ]
     },
     "metadata": {},
     "output_type": "display_data"
    }
   ],
   "source": [
    "cm = confusion_matrix(y_test, y_pred)\n",
    "from custom_metrics import custom_plot_confusion_matrix\n",
    "\n",
    "\n",
    "custom_plot_confusion_matrix(cm, target_names = ['Paid Off', \"Default\"], normalize=False)"
   ]
  },
  {
   "cell_type": "code",
   "execution_count": 196,
   "id": "8afefa36",
   "metadata": {},
   "outputs": [
    {
     "name": "stdout",
     "output_type": "stream",
     "text": [
      "              precision    recall  f1-score   support\n",
      "\n",
      "       False       0.95      0.34      0.50      6457\n",
      "        True       0.18      0.90      0.31      1078\n",
      "\n",
      "    accuracy                           0.42      7535\n",
      "   macro avg       0.57      0.62      0.40      7535\n",
      "weighted avg       0.84      0.42      0.47      7535\n",
      "\n"
     ]
    }
   ],
   "source": [
    "print(classification_report(y_test, y_pred))"
   ]
  },
  {
   "cell_type": "code",
   "execution_count": 197,
   "id": "9171e344",
   "metadata": {},
   "outputs": [
    {
     "name": "stdout",
     "output_type": "stream",
     "text": [
      "Fall-Out: 0.66129781632337\n"
     ]
    }
   ],
   "source": [
    "def fallout(y_true, y_pred):\n",
    "    tn, fp, fn, tp = confusion_matrix(y_true, y_pred).ravel()\n",
    "    fall_out = fp/(fp+tn)\n",
    "    return fall_out\n",
    "\n",
    "print(f'Fall-Out: {fallout(y_test, y_pred)}')"
   ]
  },
  {
   "cell_type": "markdown",
   "id": "837fed24",
   "metadata": {},
   "source": [
    "At a threshold of 40% we improve the recall rate up to 0.9, while we the precision and fall-out fall considerably. As a conservative investors this might be exactly what we want. Even though we miss out on a lot of good loans, if our goal is to preserve our wealth first and foremost then choosing a strategy that minimizes investing in bad loans makes sense.\n",
    "\n",
    "This analysis is far from over. On way to go from here is trying other algorithms, but even better is speding more time on feature engineering and feature selection. For example, we could use recursive feature elimination (RFE) to select features by recursively considering smaller and smaller sets of features."
   ]
  }
 ],
 "metadata": {
  "kernelspec": {
   "display_name": "Python 3",
   "language": "python",
   "name": "python3"
  },
  "language_info": {
   "codemirror_mode": {
    "name": "ipython",
    "version": 3
   },
   "file_extension": ".py",
   "mimetype": "text/x-python",
   "name": "python",
   "nbconvert_exporter": "python",
   "pygments_lexer": "ipython3",
   "version": "3.8.3"
  }
 },
 "nbformat": 4,
 "nbformat_minor": 5
}
